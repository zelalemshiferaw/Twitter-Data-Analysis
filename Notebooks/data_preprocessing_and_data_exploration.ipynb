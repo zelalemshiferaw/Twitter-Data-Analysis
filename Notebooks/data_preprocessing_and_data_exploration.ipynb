{
 "cells": [
  {
   "cell_type": "markdown",
   "metadata": {},
   "source": [
    "# Import Modules"
   ]
  },
  {
   "cell_type": "code",
   "execution_count": 1,
   "metadata": {},
   "outputs": [],
   "source": [
    "import pandas as pd\n",
    "import sys\n",
    "import os\n",
    "\n",
    "sys.path.append(os.path.abspath(os.path.join('..')))\n",
    "\n",
    "from extract_dataframe import TweetDfExtractor\n",
    "from extract_dataframe import read_json\n",
    "\n",
    "_, tweet_list = read_json(\"../data/global_twitter_data.json\")"
   ]
  },
  {
   "cell_type": "markdown",
   "metadata": {},
   "source": [
    "# Data Preprocessing\n"
   ]
  },
  {
   "cell_type": "markdown",
   "metadata": {},
   "source": [
    "## Read Given Data"
   ]
  },
  {
   "cell_type": "code",
   "execution_count": 2,
   "metadata": {},
   "outputs": [
    {
     "data": {
      "text/html": [
       "<div>\n",
       "<style scoped>\n",
       "    .dataframe tbody tr th:only-of-type {\n",
       "        vertical-align: middle;\n",
       "    }\n",
       "\n",
       "    .dataframe tbody tr th {\n",
       "        vertical-align: top;\n",
       "    }\n",
       "\n",
       "    .dataframe thead th {\n",
       "        text-align: right;\n",
       "    }\n",
       "</style>\n",
       "<table border=\"1\" class=\"dataframe\">\n",
       "  <thead>\n",
       "    <tr style=\"text-align: right;\">\n",
       "      <th></th>\n",
       "      <th>created_at</th>\n",
       "      <th>source</th>\n",
       "      <th>full_text</th>\n",
       "      <th>polarity</th>\n",
       "      <th>subjectivity</th>\n",
       "      <th>sentiment</th>\n",
       "      <th>lang</th>\n",
       "      <th>favorite_count</th>\n",
       "      <th>retweet_count</th>\n",
       "      <th>original_author</th>\n",
       "      <th>followers_count</th>\n",
       "      <th>friends_count</th>\n",
       "      <th>possibly_sensitive</th>\n",
       "      <th>hashtags</th>\n",
       "      <th>user_mentions</th>\n",
       "      <th>place</th>\n",
       "    </tr>\n",
       "  </thead>\n",
       "  <tbody>\n",
       "    <tr>\n",
       "      <th>0</th>\n",
       "      <td>Sun Aug 07 22:31:20 +0000 2022</td>\n",
       "      <td>&lt;a href=\"http://twitter.com/download/android\" ...</td>\n",
       "      <td>RT @i_ameztoy Extra random image I Lets focus ...</td>\n",
       "      <td>-1.250000e-01</td>\n",
       "      <td>0.190625</td>\n",
       "      <td>negative</td>\n",
       "      <td>en</td>\n",
       "      <td>15760</td>\n",
       "      <td>2</td>\n",
       "      <td>i_ameztoy</td>\n",
       "      <td>20497</td>\n",
       "      <td>2621</td>\n",
       "      <td>None</td>\n",
       "      <td>[City]</td>\n",
       "      <td>[i_ameztoy]</td>\n",
       "      <td></td>\n",
       "    </tr>\n",
       "    <tr>\n",
       "      <th>1</th>\n",
       "      <td>Sun Aug 07 22:31:16 +0000 2022</td>\n",
       "      <td>&lt;a href=\"http://twitter.com/download/android\" ...</td>\n",
       "      <td>RT @IndoPac_Info #Chinas media explains the mi...</td>\n",
       "      <td>-1.000000e-01</td>\n",
       "      <td>0.100000</td>\n",
       "      <td>negative</td>\n",
       "      <td>en</td>\n",
       "      <td>6967</td>\n",
       "      <td>201</td>\n",
       "      <td>ZIisq</td>\n",
       "      <td>65</td>\n",
       "      <td>272</td>\n",
       "      <td>None</td>\n",
       "      <td>[China, Taiwan]</td>\n",
       "      <td>[IndoPac_Info]</td>\n",
       "      <td></td>\n",
       "    </tr>\n",
       "    <tr>\n",
       "      <th>2</th>\n",
       "      <td>Sun Aug 07 22:31:07 +0000 2022</td>\n",
       "      <td>&lt;a href=\"http://twitter.com/download/android\" ...</td>\n",
       "      <td>China even cut off communication they dont anw...</td>\n",
       "      <td>0.000000e+00</td>\n",
       "      <td>0.000000</td>\n",
       "      <td>neutral</td>\n",
       "      <td>en</td>\n",
       "      <td>2166</td>\n",
       "      <td>0</td>\n",
       "      <td>Fin21Free</td>\n",
       "      <td>85</td>\n",
       "      <td>392</td>\n",
       "      <td>None</td>\n",
       "      <td>[XiJinping]</td>\n",
       "      <td>[ZelenskyyUa]</td>\n",
       "      <td>Netherlands</td>\n",
       "    </tr>\n",
       "    <tr>\n",
       "      <th>3</th>\n",
       "      <td>Sun Aug 07 22:31:06 +0000 2022</td>\n",
       "      <td>&lt;a href=\"http://twitter.com/download/android\" ...</td>\n",
       "      <td>Putin to #XiJinping I told you my friend Taiwa...</td>\n",
       "      <td>1.000000e-01</td>\n",
       "      <td>0.350000</td>\n",
       "      <td>positive</td>\n",
       "      <td>en</td>\n",
       "      <td>2166</td>\n",
       "      <td>0</td>\n",
       "      <td>Fin21Free</td>\n",
       "      <td>85</td>\n",
       "      <td>392</td>\n",
       "      <td>None</td>\n",
       "      <td>[XiJinping]</td>\n",
       "      <td>[]</td>\n",
       "      <td>Netherlands</td>\n",
       "    </tr>\n",
       "    <tr>\n",
       "      <th>4</th>\n",
       "      <td>Sun Aug 07 22:31:04 +0000 2022</td>\n",
       "      <td>&lt;a href=\"http://twitter.com/download/iphone\" r...</td>\n",
       "      <td>RT @ChinaUncensored I’m sorry I thought Taiwan...</td>\n",
       "      <td>-6.938894e-18</td>\n",
       "      <td>0.556250</td>\n",
       "      <td>negative</td>\n",
       "      <td>en</td>\n",
       "      <td>17247</td>\n",
       "      <td>381</td>\n",
       "      <td>VizziniDolores</td>\n",
       "      <td>910</td>\n",
       "      <td>2608</td>\n",
       "      <td>None</td>\n",
       "      <td>[]</td>\n",
       "      <td>[ChinaUncensored]</td>\n",
       "      <td>Ayent, Schweiz</td>\n",
       "    </tr>\n",
       "  </tbody>\n",
       "</table>\n",
       "</div>"
      ],
      "text/plain": [
       "                       created_at  \\\n",
       "0  Sun Aug 07 22:31:20 +0000 2022   \n",
       "1  Sun Aug 07 22:31:16 +0000 2022   \n",
       "2  Sun Aug 07 22:31:07 +0000 2022   \n",
       "3  Sun Aug 07 22:31:06 +0000 2022   \n",
       "4  Sun Aug 07 22:31:04 +0000 2022   \n",
       "\n",
       "                                              source  \\\n",
       "0  <a href=\"http://twitter.com/download/android\" ...   \n",
       "1  <a href=\"http://twitter.com/download/android\" ...   \n",
       "2  <a href=\"http://twitter.com/download/android\" ...   \n",
       "3  <a href=\"http://twitter.com/download/android\" ...   \n",
       "4  <a href=\"http://twitter.com/download/iphone\" r...   \n",
       "\n",
       "                                           full_text      polarity  \\\n",
       "0  RT @i_ameztoy Extra random image I Lets focus ... -1.250000e-01   \n",
       "1  RT @IndoPac_Info #Chinas media explains the mi... -1.000000e-01   \n",
       "2  China even cut off communication they dont anw...  0.000000e+00   \n",
       "3  Putin to #XiJinping I told you my friend Taiwa...  1.000000e-01   \n",
       "4  RT @ChinaUncensored I’m sorry I thought Taiwan... -6.938894e-18   \n",
       "\n",
       "   subjectivity sentiment lang  favorite_count  retweet_count original_author  \\\n",
       "0      0.190625  negative   en           15760              2       i_ameztoy   \n",
       "1      0.100000  negative   en            6967            201           ZIisq   \n",
       "2      0.000000   neutral   en            2166              0       Fin21Free   \n",
       "3      0.350000  positive   en            2166              0       Fin21Free   \n",
       "4      0.556250  negative   en           17247            381  VizziniDolores   \n",
       "\n",
       "   followers_count  friends_count possibly_sensitive         hashtags  \\\n",
       "0            20497           2621               None           [City]   \n",
       "1               65            272               None  [China, Taiwan]   \n",
       "2               85            392               None      [XiJinping]   \n",
       "3               85            392               None      [XiJinping]   \n",
       "4              910           2608               None               []   \n",
       "\n",
       "       user_mentions           place  \n",
       "0        [i_ameztoy]                  \n",
       "1     [IndoPac_Info]                  \n",
       "2      [ZelenskyyUa]     Netherlands  \n",
       "3                 []     Netherlands  \n",
       "4  [ChinaUncensored]  Ayent, Schweiz  "
      ]
     },
     "execution_count": 2,
     "metadata": {},
     "output_type": "execute_result"
    }
   ],
   "source": [
    "tweets_df_extractor = TweetDfExtractor(tweet_list)\n",
    "tweets_df = tweets_df_extractor.get_tweet_df()\n",
    "tweets_df.head()"
   ]
  },
  {
   "cell_type": "code",
   "execution_count": 3,
   "metadata": {},
   "outputs": [
    {
     "name": "stdout",
     "output_type": "stream",
     "text": [
      "<class 'pandas.core.frame.DataFrame'>\n",
      "RangeIndex: 22000 entries, 0 to 21999\n",
      "Data columns (total 16 columns):\n",
      " #   Column              Non-Null Count  Dtype  \n",
      "---  ------              --------------  -----  \n",
      " 0   created_at          22000 non-null  object \n",
      " 1   source              22000 non-null  object \n",
      " 2   full_text           22000 non-null  object \n",
      " 3   polarity            22000 non-null  float64\n",
      " 4   subjectivity        22000 non-null  float64\n",
      " 5   sentiment           22000 non-null  object \n",
      " 6   lang                22000 non-null  object \n",
      " 7   favorite_count      22000 non-null  int64  \n",
      " 8   retweet_count       22000 non-null  int64  \n",
      " 9   original_author     22000 non-null  object \n",
      " 10  followers_count     22000 non-null  int64  \n",
      " 11  friends_count       22000 non-null  int64  \n",
      " 12  possibly_sensitive  6191 non-null   object \n",
      " 13  hashtags            22000 non-null  object \n",
      " 14  user_mentions       22000 non-null  object \n",
      " 15  place               22000 non-null  object \n",
      "dtypes: float64(2), int64(4), object(10)\n",
      "memory usage: 2.7+ MB\n"
     ]
    }
   ],
   "source": [
    "tweets_df.info()"
   ]
  },
  {
   "cell_type": "markdown",
   "metadata": {},
   "source": [
    "## Removing Duplicate Rows"
   ]
  },
  {
   "cell_type": "code",
   "execution_count": 4,
   "metadata": {},
   "outputs": [
    {
     "name": "stdout",
     "output_type": "stream",
     "text": [
      "Automation in Action...!!!\n"
     ]
    }
   ],
   "source": [
    "from clean_tweets_dataframe import Clean_Tweets\n",
    "clean_tweets = Clean_Tweets(tweets_df)"
   ]
  },
  {
   "cell_type": "code",
   "execution_count": 5,
   "metadata": {},
   "outputs": [
    {
     "data": {
      "text/plain": [
       "(22000, 16)"
      ]
     },
     "execution_count": 5,
     "metadata": {},
     "output_type": "execute_result"
    }
   ],
   "source": [
    "tweets_df.shape\n"
   ]
  },
  {
   "cell_type": "markdown",
   "metadata": {},
   "source": [
    "## Remove Non English Tweets"
   ]
  },
  {
   "cell_type": "code",
   "execution_count": 6,
   "metadata": {},
   "outputs": [
    {
     "data": {
      "text/plain": [
       "(22000, 16)"
      ]
     },
     "execution_count": 6,
     "metadata": {},
     "output_type": "execute_result"
    }
   ],
   "source": [
    "tweets_df = clean_tweets.remove_non_english_tweets(tweets_df)\n",
    "tweets_df.shape"
   ]
  },
  {
   "cell_type": "markdown",
   "metadata": {},
   "source": [
    "## Manage Missing values\n"
   ]
  },
  {
   "cell_type": "code",
   "execution_count": 7,
   "metadata": {},
   "outputs": [
    {
     "data": {
      "text/plain": [
       "created_at                0\n",
       "source                    0\n",
       "full_text                 0\n",
       "polarity                  0\n",
       "subjectivity              0\n",
       "sentiment                 0\n",
       "lang                      0\n",
       "favorite_count            0\n",
       "retweet_count             0\n",
       "original_author           0\n",
       "followers_count           0\n",
       "friends_count             0\n",
       "possibly_sensitive    15809\n",
       "hashtags                  0\n",
       "user_mentions             0\n",
       "place                     0\n",
       "dtype: int64"
      ]
     },
     "execution_count": 7,
     "metadata": {},
     "output_type": "execute_result"
    }
   ],
   "source": [
    "tweets_df.isna().sum()\n"
   ]
  },
  {
   "cell_type": "markdown",
   "metadata": {},
   "source": [
    "## Manage Missing Data\n"
   ]
  },
  {
   "cell_type": "code",
   "execution_count": 8,
   "metadata": {},
   "outputs": [
    {
     "data": {
      "text/plain": [
       "created_at            0\n",
       "source                0\n",
       "full_text             0\n",
       "polarity              0\n",
       "subjectivity          0\n",
       "sentiment             0\n",
       "lang                  0\n",
       "favorite_count        0\n",
       "retweet_count         0\n",
       "original_author       0\n",
       "followers_count       0\n",
       "friends_count         0\n",
       "possibly_sensitive    0\n",
       "hashtags              0\n",
       "user_mentions         0\n",
       "place                 0\n",
       "dtype: int64"
      ]
     },
     "execution_count": 8,
     "metadata": {},
     "output_type": "execute_result"
    }
   ],
   "source": [
    "tweets_df['possibly_sensitive'] = tweets_df['possibly_sensitive'].fillna(\"not_found\")\n",
    "tweets_df.isna().sum()\n"
   ]
  },
  {
   "cell_type": "code",
   "execution_count": 9,
   "metadata": {},
   "outputs": [
    {
     "data": {
      "text/plain": [
       "(9892, 16)"
      ]
     },
     "execution_count": 9,
     "metadata": {},
     "output_type": "execute_result"
    }
   ],
   "source": [
    "tweets_df[tweets_df['place'] == ''].shape\n"
   ]
  },
  {
   "cell_type": "code",
   "execution_count": 19,
   "metadata": {},
   "outputs": [
    {
     "data": {
      "text/plain": [
       "created_at            0\n",
       "source                0\n",
       "full_text             0\n",
       "polarity              0\n",
       "subjectivity          0\n",
       "lang                  0\n",
       "favorite_count        0\n",
       "retweet_count         0\n",
       "original_author       0\n",
       "followers_count       0\n",
       "friends_count         0\n",
       "possibly_sensitive    0\n",
       "hashtags              0\n",
       "user_mentions         0\n",
       "place                 0\n",
       "dtype: int64"
      ]
     },
     "execution_count": 19,
     "metadata": {},
     "output_type": "execute_result"
    }
   ],
   "source": [
    "tweets_df['place'] = tweets_df['place'].fillna(\"not_known\")\n",
    "tweets_df.isna().sum()"
   ]
  },
  {
   "cell_type": "markdown",
   "metadata": {},
   "source": [
    "## Remove Unwanted Characters\n"
   ]
  },
  {
   "cell_type": "code",
   "execution_count": 10,
   "metadata": {},
   "outputs": [
    {
     "data": {
      "text/plain": [
       "created_at            0\n",
       "source                0\n",
       "full_text             0\n",
       "polarity              0\n",
       "subjectivity          0\n",
       "sentiment             0\n",
       "lang                  0\n",
       "favorite_count        0\n",
       "retweet_count         0\n",
       "original_author       0\n",
       "followers_count       0\n",
       "friends_count         0\n",
       "possibly_sensitive    0\n",
       "hashtags              0\n",
       "user_mentions         0\n",
       "place                 0\n",
       "dtype: int64"
      ]
     },
     "execution_count": 10,
     "metadata": {},
     "output_type": "execute_result"
    }
   ],
   "source": [
    "tweets_df = clean_tweets.remove_place_characters(tweets_df)\n",
    "tweets_df.isna().sum()"
   ]
  },
  {
   "cell_type": "markdown",
   "metadata": {},
   "source": [
    "## Convert to Datetime\n"
   ]
  },
  {
   "cell_type": "code",
   "execution_count": 11,
   "metadata": {},
   "outputs": [
    {
     "name": "stdout",
     "output_type": "stream",
     "text": [
      "<class 'pandas.core.frame.DataFrame'>\n",
      "Int64Index: 22000 entries, 0 to 21999\n",
      "Data columns (total 16 columns):\n",
      " #   Column              Non-Null Count  Dtype              \n",
      "---  ------              --------------  -----              \n",
      " 0   created_at          22000 non-null  datetime64[ns, UTC]\n",
      " 1   source              22000 non-null  object             \n",
      " 2   full_text           22000 non-null  object             \n",
      " 3   polarity            22000 non-null  float64            \n",
      " 4   subjectivity        22000 non-null  float64            \n",
      " 5   sentiment           22000 non-null  object             \n",
      " 6   lang                22000 non-null  object             \n",
      " 7   favorite_count      22000 non-null  int64              \n",
      " 8   retweet_count       22000 non-null  int64              \n",
      " 9   original_author     22000 non-null  object             \n",
      " 10  followers_count     22000 non-null  int64              \n",
      " 11  friends_count       22000 non-null  int64              \n",
      " 12  possibly_sensitive  22000 non-null  object             \n",
      " 13  hashtags            22000 non-null  object             \n",
      " 14  user_mentions       22000 non-null  object             \n",
      " 15  place               22000 non-null  object             \n",
      "dtypes: datetime64[ns, UTC](1), float64(2), int64(4), object(9)\n",
      "memory usage: 2.9+ MB\n"
     ]
    }
   ],
   "source": [
    "tweets_df = clean_tweets.convert_to_datetime(tweets_df)\n",
    "tweets_df.info()"
   ]
  },
  {
   "cell_type": "markdown",
   "metadata": {},
   "source": [
    "## Extract device from source text\n"
   ]
  },
  {
   "cell_type": "code",
   "execution_count": 12,
   "metadata": {},
   "outputs": [
    {
     "data": {
      "text/plain": [
       "0    <a href=\"http://twitter.com/download/android\" ...\n",
       "1    <a href=\"http://twitter.com/download/android\" ...\n",
       "2    <a href=\"http://twitter.com/download/android\" ...\n",
       "3    <a href=\"http://twitter.com/download/android\" ...\n",
       "4    <a href=\"http://twitter.com/download/iphone\" r...\n",
       "5    <a href=\"http://twitter.com/download/android\" ...\n",
       "6    <a href=\"http://twitter.com/download/android\" ...\n",
       "7    <a href=\"http://twitter.com/download/android\" ...\n",
       "8    <a href=\"http://twitter.com/download/android\" ...\n",
       "9    <a href=\"https://mobile.twitter.com\" rel=\"nofo...\n",
       "Name: source, dtype: object"
      ]
     },
     "execution_count": 12,
     "metadata": {},
     "output_type": "execute_result"
    }
   ],
   "source": [
    "tweets_df['source'][:10]\n"
   ]
  },
  {
   "cell_type": "code",
   "execution_count": 13,
   "metadata": {},
   "outputs": [
    {
     "data": {
      "text/plain": [
       "0    Twitter for Android\n",
       "1    Twitter for Android\n",
       "2    Twitter for Android\n",
       "3    Twitter for Android\n",
       "4     Twitter for iPhone\n",
       "5    Twitter for Android\n",
       "6    Twitter for Android\n",
       "7    Twitter for Android\n",
       "8    Twitter for Android\n",
       "9        Twitter Web App\n",
       "Name: source, dtype: object"
      ]
     },
     "execution_count": 13,
     "metadata": {},
     "output_type": "execute_result"
    }
   ],
   "source": [
    "tweets_df[\"source\"] = tweets_df[\"source\"].apply(clean_tweets.extract_twitter_source)\n",
    "tweets_df['source'][:10]"
   ]
  },
  {
   "cell_type": "markdown",
   "metadata": {},
   "source": [
    "## Save Preproccessed Data"
   ]
  },
  {
   "cell_type": "code",
   "execution_count": 14,
   "metadata": {},
   "outputs": [],
   "source": [
    "tweets_df.to_csv(\"../data/global_twitter_preprocessed_data.csv\", index=False)\n"
   ]
  },
  {
   "cell_type": "markdown",
   "metadata": {},
   "source": [
    "# Data Exploration\n"
   ]
  },
  {
   "cell_type": "markdown",
   "metadata": {},
   "source": [
    "## Getting Preprocessed data"
   ]
  },
  {
   "cell_type": "code",
   "execution_count": 15,
   "metadata": {},
   "outputs": [],
   "source": [
    "#It is all about getting some insight and understanding the extracted data.\n",
    "tweets_df = pd.read_csv(\"../data/global_twitter_preprocessed_data.csv\")\n"
   ]
  },
  {
   "cell_type": "code",
   "execution_count": 17,
   "metadata": {},
   "outputs": [
    {
     "data": {
      "text/html": [
       "<div>\n",
       "<style scoped>\n",
       "    .dataframe tbody tr th:only-of-type {\n",
       "        vertical-align: middle;\n",
       "    }\n",
       "\n",
       "    .dataframe tbody tr th {\n",
       "        vertical-align: top;\n",
       "    }\n",
       "\n",
       "    .dataframe thead th {\n",
       "        text-align: right;\n",
       "    }\n",
       "</style>\n",
       "<table border=\"1\" class=\"dataframe\">\n",
       "  <thead>\n",
       "    <tr style=\"text-align: right;\">\n",
       "      <th></th>\n",
       "      <th>created_at</th>\n",
       "      <th>source</th>\n",
       "      <th>full_text</th>\n",
       "      <th>polarity</th>\n",
       "      <th>subjectivity</th>\n",
       "      <th>sentiment</th>\n",
       "      <th>lang</th>\n",
       "      <th>favorite_count</th>\n",
       "      <th>retweet_count</th>\n",
       "      <th>original_author</th>\n",
       "      <th>followers_count</th>\n",
       "      <th>friends_count</th>\n",
       "      <th>possibly_sensitive</th>\n",
       "      <th>hashtags</th>\n",
       "      <th>user_mentions</th>\n",
       "      <th>place</th>\n",
       "    </tr>\n",
       "  </thead>\n",
       "  <tbody>\n",
       "    <tr>\n",
       "      <th>0</th>\n",
       "      <td>2022-08-07 22:31:20+00:00</td>\n",
       "      <td>Twitter for Android</td>\n",
       "      <td>RT @i_ameztoy Extra random image I Lets focus ...</td>\n",
       "      <td>-1.250000e-01</td>\n",
       "      <td>0.190625</td>\n",
       "      <td>negative</td>\n",
       "      <td>en</td>\n",
       "      <td>15760</td>\n",
       "      <td>2</td>\n",
       "      <td>i_ameztoy</td>\n",
       "      <td>20497</td>\n",
       "      <td>2621</td>\n",
       "      <td>not_found</td>\n",
       "      <td>['City']</td>\n",
       "      <td>['i_ameztoy']</td>\n",
       "      <td>NaN</td>\n",
       "    </tr>\n",
       "    <tr>\n",
       "      <th>1</th>\n",
       "      <td>2022-08-07 22:31:16+00:00</td>\n",
       "      <td>Twitter for Android</td>\n",
       "      <td>RT @IndoPac_Info #Chinas media explains the mi...</td>\n",
       "      <td>-1.000000e-01</td>\n",
       "      <td>0.100000</td>\n",
       "      <td>negative</td>\n",
       "      <td>en</td>\n",
       "      <td>6967</td>\n",
       "      <td>201</td>\n",
       "      <td>ZIisq</td>\n",
       "      <td>65</td>\n",
       "      <td>272</td>\n",
       "      <td>not_found</td>\n",
       "      <td>['China', 'Taiwan']</td>\n",
       "      <td>['IndoPac_Info']</td>\n",
       "      <td>NaN</td>\n",
       "    </tr>\n",
       "    <tr>\n",
       "      <th>2</th>\n",
       "      <td>2022-08-07 22:31:07+00:00</td>\n",
       "      <td>Twitter for Android</td>\n",
       "      <td>China even cut off communication they dont anw...</td>\n",
       "      <td>0.000000e+00</td>\n",
       "      <td>0.000000</td>\n",
       "      <td>neutral</td>\n",
       "      <td>en</td>\n",
       "      <td>2166</td>\n",
       "      <td>0</td>\n",
       "      <td>Fin21Free</td>\n",
       "      <td>85</td>\n",
       "      <td>392</td>\n",
       "      <td>not_found</td>\n",
       "      <td>['XiJinping']</td>\n",
       "      <td>['ZelenskyyUa']</td>\n",
       "      <td>Netherlands</td>\n",
       "    </tr>\n",
       "    <tr>\n",
       "      <th>3</th>\n",
       "      <td>2022-08-07 22:31:06+00:00</td>\n",
       "      <td>Twitter for Android</td>\n",
       "      <td>Putin to #XiJinping I told you my friend Taiwa...</td>\n",
       "      <td>1.000000e-01</td>\n",
       "      <td>0.350000</td>\n",
       "      <td>positive</td>\n",
       "      <td>en</td>\n",
       "      <td>2166</td>\n",
       "      <td>0</td>\n",
       "      <td>Fin21Free</td>\n",
       "      <td>85</td>\n",
       "      <td>392</td>\n",
       "      <td>not_found</td>\n",
       "      <td>['XiJinping']</td>\n",
       "      <td>[]</td>\n",
       "      <td>Netherlands</td>\n",
       "    </tr>\n",
       "    <tr>\n",
       "      <th>4</th>\n",
       "      <td>2022-08-07 22:31:04+00:00</td>\n",
       "      <td>Twitter for iPhone</td>\n",
       "      <td>RT @ChinaUncensored I’m sorry I thought Taiwan...</td>\n",
       "      <td>-6.938894e-18</td>\n",
       "      <td>0.556250</td>\n",
       "      <td>negative</td>\n",
       "      <td>en</td>\n",
       "      <td>17247</td>\n",
       "      <td>381</td>\n",
       "      <td>VizziniDolores</td>\n",
       "      <td>910</td>\n",
       "      <td>2608</td>\n",
       "      <td>not_found</td>\n",
       "      <td>[]</td>\n",
       "      <td>['ChinaUncensored']</td>\n",
       "      <td>Ayent Schweiz</td>\n",
       "    </tr>\n",
       "  </tbody>\n",
       "</table>\n",
       "</div>"
      ],
      "text/plain": [
       "                  created_at               source  \\\n",
       "0  2022-08-07 22:31:20+00:00  Twitter for Android   \n",
       "1  2022-08-07 22:31:16+00:00  Twitter for Android   \n",
       "2  2022-08-07 22:31:07+00:00  Twitter for Android   \n",
       "3  2022-08-07 22:31:06+00:00  Twitter for Android   \n",
       "4  2022-08-07 22:31:04+00:00   Twitter for iPhone   \n",
       "\n",
       "                                           full_text      polarity  \\\n",
       "0  RT @i_ameztoy Extra random image I Lets focus ... -1.250000e-01   \n",
       "1  RT @IndoPac_Info #Chinas media explains the mi... -1.000000e-01   \n",
       "2  China even cut off communication they dont anw...  0.000000e+00   \n",
       "3  Putin to #XiJinping I told you my friend Taiwa...  1.000000e-01   \n",
       "4  RT @ChinaUncensored I’m sorry I thought Taiwan... -6.938894e-18   \n",
       "\n",
       "   subjectivity sentiment lang  favorite_count  retweet_count original_author  \\\n",
       "0      0.190625  negative   en           15760              2       i_ameztoy   \n",
       "1      0.100000  negative   en            6967            201           ZIisq   \n",
       "2      0.000000   neutral   en            2166              0       Fin21Free   \n",
       "3      0.350000  positive   en            2166              0       Fin21Free   \n",
       "4      0.556250  negative   en           17247            381  VizziniDolores   \n",
       "\n",
       "   followers_count  friends_count possibly_sensitive             hashtags  \\\n",
       "0            20497           2621          not_found             ['City']   \n",
       "1               65            272          not_found  ['China', 'Taiwan']   \n",
       "2               85            392          not_found        ['XiJinping']   \n",
       "3               85            392          not_found        ['XiJinping']   \n",
       "4              910           2608          not_found                   []   \n",
       "\n",
       "         user_mentions          place  \n",
       "0        ['i_ameztoy']            NaN  \n",
       "1     ['IndoPac_Info']            NaN  \n",
       "2      ['ZelenskyyUa']    Netherlands  \n",
       "3                   []    Netherlands  \n",
       "4  ['ChinaUncensored']  Ayent Schweiz  "
      ]
     },
     "execution_count": 17,
     "metadata": {},
     "output_type": "execute_result"
    }
   ],
   "source": [
    "tweets_df.head(5)\n"
   ]
  },
  {
   "cell_type": "code",
   "execution_count": 18,
   "metadata": {},
   "outputs": [
    {
     "data": {
      "text/plain": [
       "(22000, 16)"
      ]
     },
     "execution_count": 18,
     "metadata": {},
     "output_type": "execute_result"
    }
   ],
   "source": [
    "# shape of dataframe\n",
    "tweets_df.shape"
   ]
  },
  {
   "cell_type": "code",
   "execution_count": 19,
   "metadata": {},
   "outputs": [
    {
     "name": "stdout",
     "output_type": "stream",
     "text": [
      "<class 'pandas.core.frame.DataFrame'>\n",
      "RangeIndex: 22000 entries, 0 to 21999\n",
      "Data columns (total 16 columns):\n",
      " #   Column              Non-Null Count  Dtype  \n",
      "---  ------              --------------  -----  \n",
      " 0   created_at          22000 non-null  object \n",
      " 1   source              22000 non-null  object \n",
      " 2   full_text           22000 non-null  object \n",
      " 3   polarity            22000 non-null  float64\n",
      " 4   subjectivity        22000 non-null  float64\n",
      " 5   sentiment           22000 non-null  object \n",
      " 6   lang                22000 non-null  object \n",
      " 7   favorite_count      22000 non-null  int64  \n",
      " 8   retweet_count       22000 non-null  int64  \n",
      " 9   original_author     22000 non-null  object \n",
      " 10  followers_count     22000 non-null  int64  \n",
      " 11  friends_count       22000 non-null  int64  \n",
      " 12  possibly_sensitive  22000 non-null  object \n",
      " 13  hashtags            22000 non-null  object \n",
      " 14  user_mentions       22000 non-null  object \n",
      " 15  place               11510 non-null  object \n",
      "dtypes: float64(2), int64(4), object(10)\n",
      "memory usage: 2.7+ MB\n"
     ]
    }
   ],
   "source": [
    "# general info about null values, data types, columns\n",
    "tweets_df.info()"
   ]
  },
  {
   "cell_type": "code",
   "execution_count": 20,
   "metadata": {},
   "outputs": [
    {
     "data": {
      "text/plain": [
       "created_at                0\n",
       "source                    0\n",
       "full_text                 0\n",
       "polarity                  0\n",
       "subjectivity              0\n",
       "sentiment                 0\n",
       "lang                      0\n",
       "favorite_count            0\n",
       "retweet_count             0\n",
       "original_author           0\n",
       "followers_count           0\n",
       "friends_count             0\n",
       "possibly_sensitive        0\n",
       "hashtags                  0\n",
       "user_mentions             0\n",
       "place                 10490\n",
       "dtype: int64"
      ]
     },
     "execution_count": 20,
     "metadata": {},
     "output_type": "execute_result"
    }
   ],
   "source": [
    "tweets_df.isna().sum()\n"
   ]
  },
  {
   "cell_type": "code",
   "execution_count": 21,
   "metadata": {},
   "outputs": [
    {
     "data": {
      "text/html": [
       "<div>\n",
       "<style scoped>\n",
       "    .dataframe tbody tr th:only-of-type {\n",
       "        vertical-align: middle;\n",
       "    }\n",
       "\n",
       "    .dataframe tbody tr th {\n",
       "        vertical-align: top;\n",
       "    }\n",
       "\n",
       "    .dataframe thead th {\n",
       "        text-align: right;\n",
       "    }\n",
       "</style>\n",
       "<table border=\"1\" class=\"dataframe\">\n",
       "  <thead>\n",
       "    <tr style=\"text-align: right;\">\n",
       "      <th></th>\n",
       "      <th>polarity</th>\n",
       "      <th>subjectivity</th>\n",
       "      <th>favorite_count</th>\n",
       "      <th>retweet_count</th>\n",
       "      <th>followers_count</th>\n",
       "      <th>friends_count</th>\n",
       "    </tr>\n",
       "  </thead>\n",
       "  <tbody>\n",
       "    <tr>\n",
       "      <th>count</th>\n",
       "      <td>22000.000000</td>\n",
       "      <td>22000.000000</td>\n",
       "      <td>2.200000e+04</td>\n",
       "      <td>22000.000000</td>\n",
       "      <td>2.200000e+04</td>\n",
       "      <td>22000.000000</td>\n",
       "    </tr>\n",
       "    <tr>\n",
       "      <th>mean</th>\n",
       "      <td>0.061312</td>\n",
       "      <td>0.283934</td>\n",
       "      <td>3.791884e+04</td>\n",
       "      <td>177.295636</td>\n",
       "      <td>1.796764e+04</td>\n",
       "      <td>1563.114455</td>\n",
       "    </tr>\n",
       "    <tr>\n",
       "      <th>std</th>\n",
       "      <td>0.223658</td>\n",
       "      <td>0.290950</td>\n",
       "      <td>8.952426e+04</td>\n",
       "      <td>498.320518</td>\n",
       "      <td>3.030478e+05</td>\n",
       "      <td>4358.651264</td>\n",
       "    </tr>\n",
       "    <tr>\n",
       "      <th>min</th>\n",
       "      <td>-1.000000</td>\n",
       "      <td>0.000000</td>\n",
       "      <td>0.000000e+00</td>\n",
       "      <td>0.000000</td>\n",
       "      <td>0.000000e+00</td>\n",
       "      <td>0.000000</td>\n",
       "    </tr>\n",
       "    <tr>\n",
       "      <th>25%</th>\n",
       "      <td>0.000000</td>\n",
       "      <td>0.000000</td>\n",
       "      <td>8.657500e+02</td>\n",
       "      <td>3.000000</td>\n",
       "      <td>5.700000e+01</td>\n",
       "      <td>137.000000</td>\n",
       "    </tr>\n",
       "    <tr>\n",
       "      <th>50%</th>\n",
       "      <td>0.000000</td>\n",
       "      <td>0.200000</td>\n",
       "      <td>7.133000e+03</td>\n",
       "      <td>39.000000</td>\n",
       "      <td>2.840000e+02</td>\n",
       "      <td>487.000000</td>\n",
       "    </tr>\n",
       "    <tr>\n",
       "      <th>75%</th>\n",
       "      <td>0.133333</td>\n",
       "      <td>0.469048</td>\n",
       "      <td>3.425750e+04</td>\n",
       "      <td>187.000000</td>\n",
       "      <td>1.324500e+03</td>\n",
       "      <td>1599.000000</td>\n",
       "    </tr>\n",
       "    <tr>\n",
       "      <th>max</th>\n",
       "      <td>1.000000</td>\n",
       "      <td>1.000000</td>\n",
       "      <td>1.717879e+06</td>\n",
       "      <td>17409.000000</td>\n",
       "      <td>1.449852e+07</td>\n",
       "      <td>208360.000000</td>\n",
       "    </tr>\n",
       "  </tbody>\n",
       "</table>\n",
       "</div>"
      ],
      "text/plain": [
       "           polarity  subjectivity  favorite_count  retweet_count  \\\n",
       "count  22000.000000  22000.000000    2.200000e+04   22000.000000   \n",
       "mean       0.061312      0.283934    3.791884e+04     177.295636   \n",
       "std        0.223658      0.290950    8.952426e+04     498.320518   \n",
       "min       -1.000000      0.000000    0.000000e+00       0.000000   \n",
       "25%        0.000000      0.000000    8.657500e+02       3.000000   \n",
       "50%        0.000000      0.200000    7.133000e+03      39.000000   \n",
       "75%        0.133333      0.469048    3.425750e+04     187.000000   \n",
       "max        1.000000      1.000000    1.717879e+06   17409.000000   \n",
       "\n",
       "       followers_count  friends_count  \n",
       "count     2.200000e+04   22000.000000  \n",
       "mean      1.796764e+04    1563.114455  \n",
       "std       3.030478e+05    4358.651264  \n",
       "min       0.000000e+00       0.000000  \n",
       "25%       5.700000e+01     137.000000  \n",
       "50%       2.840000e+02     487.000000  \n",
       "75%       1.324500e+03    1599.000000  \n",
       "max       1.449852e+07  208360.000000  "
      ]
     },
     "execution_count": 21,
     "metadata": {},
     "output_type": "execute_result"
    }
   ],
   "source": [
    "# stats about numerical columns\n",
    "tweets_df.describe()"
   ]
  },
  {
   "cell_type": "markdown",
   "metadata": {},
   "source": [
    "## Original authors"
   ]
  },
  {
   "cell_type": "code",
   "execution_count": 22,
   "metadata": {},
   "outputs": [
    {
     "data": {
      "text/plain": [
       "TrumpThuan        116\n",
       "CGMeifangZhang     65\n",
       "AarianNewsX        59\n",
       "Lin73324756        48\n",
       "Bin20211001        46\n",
       "                 ... \n",
       "papago5             1\n",
       "pmsxa               1\n",
       "SomethingThar       1\n",
       "omotenashi_cx       1\n",
       "ZeitounRimal        1\n",
       "Name: original_author, Length: 13433, dtype: int64"
      ]
     },
     "execution_count": 22,
     "metadata": {},
     "output_type": "execute_result"
    }
   ],
   "source": [
    "tweets_df.original_author.value_counts()\n"
   ]
  },
  {
   "cell_type": "code",
   "execution_count": 23,
   "metadata": {},
   "outputs": [
    {
     "data": {
      "image/png": "[encoded data removed]",
      "text/plain": [
       "<Figure size 432x288 with 1 Axes>"
      ]
     },
     "metadata": {},
     "output_type": "display_data"
    }
   ],
   "source": [
    "tweets_df.original_author.value_counts().head(7).plot(kind=\"pie\");\n"
   ]
  },
  {
   "cell_type": "markdown",
   "metadata": {},
   "source": [
    "## Place"
   ]
  },
  {
   "cell_type": "code",
   "execution_count": 24,
   "metadata": {},
   "outputs": [
    {
     "data": {
      "text/plain": [
       "                          246\n",
       "India                     200\n",
       "United States             166\n",
       "Hong Kong                 153\n",
       "Vit Nam                   118\n",
       "                         ... \n",
       "Makassar Indonesia          1\n",
       "xx                          1\n",
       "Lephalale South Africa      1\n",
       "Occopied Pakistan           1\n",
       "Gelendzhik                  1\n",
       "Name: place, Length: 3920, dtype: int64"
      ]
     },
     "execution_count": 24,
     "metadata": {},
     "output_type": "execute_result"
    }
   ],
   "source": [
    "tweets_df.place.value_counts()"
   ]
  },
  {
   "cell_type": "code",
   "execution_count": 25,
   "metadata": {},
   "outputs": [
    {
     "data": {
      "image/png": "[encoded data removed]",
      "text/plain": [
       "<Figure size 432x288 with 1 Axes>"
      ]
     },
     "metadata": {},
     "output_type": "display_data"
    }
   ],
   "source": [
    "# top 7 locations of users\n",
    "top_locations = tweets_df.place.value_counts().head(7)\n",
    "top_locations.plot(kind=\"pie\", subplots=True, title=\"Top 7 locations\");"
   ]
  },
  {
   "cell_type": "markdown",
   "metadata": {},
   "source": [
    "## Source"
   ]
  },
  {
   "cell_type": "code",
   "execution_count": 26,
   "metadata": {},
   "outputs": [
    {
     "data": {
      "text/plain": [
       "Twitter for Android     8391\n",
       "Twitter Web App         6791\n",
       "Twitter for iPhone      5212\n",
       "Twitter for iPad         634\n",
       "TweetDeck                171\n",
       "                        ... \n",
       "Twitterrific for Mac       1\n",
       "Reddit__News               1\n",
       "Vanprob Retweet            1\n",
       "Sénégal Retweet            1\n",
       "NewsNacho                  1\n",
       "Name: source, Length: 240, dtype: int64"
      ]
     },
     "execution_count": 26,
     "metadata": {},
     "output_type": "execute_result"
    }
   ],
   "source": [
    "tweets_df[\"source\"].value_counts()\n"
   ]
  },
  {
   "cell_type": "code",
   "execution_count": 27,
   "metadata": {},
   "outputs": [
    {
     "data": {
      "image/png": "[encoded data removed]",
      "text/plain": [
       "<Figure size 432x288 with 1 Axes>"
      ]
     },
     "metadata": {},
     "output_type": "display_data"
    }
   ],
   "source": [
    "tweets_df[\"source\"].value_counts().head().plot(kind=\"pie\");\n"
   ]
  },
  {
   "cell_type": "markdown",
   "metadata": {},
   "source": [
    "## User mentions\n"
   ]
  },
  {
   "cell_type": "code",
   "execution_count": 28,
   "metadata": {},
   "outputs": [
    {
     "data": {
      "text/plain": [
       "0              ['i_ameztoy']\n",
       "1           ['IndoPac_Info']\n",
       "2            ['ZelenskyyUa']\n",
       "3                         []\n",
       "4        ['ChinaUncensored']\n",
       "                ...         \n",
       "21995       ['IndoPac_Info']\n",
       "21996       ['IndoPac_Info']\n",
       "21997            ['Reuters']\n",
       "21998       ['IndoPac_Info']\n",
       "21999       ['IndoPac_Info']\n",
       "Name: user_mentions, Length: 22000, dtype: object"
      ]
     },
     "execution_count": 28,
     "metadata": {},
     "output_type": "execute_result"
    }
   ],
   "source": [
    "tweets_df[\"user_mentions\"]\n"
   ]
  },
  {
   "cell_type": "code",
   "execution_count": 29,
   "metadata": {},
   "outputs": [
    {
     "data": {
      "text/plain": [
       "0              ['i_ameztoy']\n",
       "1           ['IndoPac_Info']\n",
       "2            ['ZelenskyyUa']\n",
       "3                         []\n",
       "4        ['ChinaUncensored']\n",
       "                ...         \n",
       "21995       ['IndoPac_Info']\n",
       "21996       ['IndoPac_Info']\n",
       "21997            ['Reuters']\n",
       "21998       ['IndoPac_Info']\n",
       "21999       ['IndoPac_Info']\n",
       "Name: user_mentions, Length: 22000, dtype: object"
      ]
     },
     "execution_count": 29,
     "metadata": {},
     "output_type": "execute_result"
    }
   ],
   "source": [
    "# Row values differnet null from user mention columns\n",
    "user_mentions_list_df = tweets_df.loc[tweets_df[\"user_mentions\"] != \" \"]\n",
    "user_mentions_list_df = user_mentions_list_df['user_mentions']\n",
    "user_mentions_list_df"
   ]
  },
  {
   "cell_type": "code",
   "execution_count": 30,
   "metadata": {},
   "outputs": [
    {
     "data": {
      "text/html": [
       "<div>\n",
       "<style scoped>\n",
       "    .dataframe tbody tr th:only-of-type {\n",
       "        vertical-align: middle;\n",
       "    }\n",
       "\n",
       "    .dataframe tbody tr th {\n",
       "        vertical-align: top;\n",
       "    }\n",
       "\n",
       "    .dataframe thead th {\n",
       "        text-align: right;\n",
       "    }\n",
       "</style>\n",
       "<table border=\"1\" class=\"dataframe\">\n",
       "  <thead>\n",
       "    <tr style=\"text-align: right;\">\n",
       "      <th></th>\n",
       "      <th>user_mentions</th>\n",
       "    </tr>\n",
       "  </thead>\n",
       "  <tbody>\n",
       "    <tr>\n",
       "      <th>0</th>\n",
       "      <td>['i_ameztoy']</td>\n",
       "    </tr>\n",
       "    <tr>\n",
       "      <th>1</th>\n",
       "      <td>['IndoPac_Info']</td>\n",
       "    </tr>\n",
       "    <tr>\n",
       "      <th>2</th>\n",
       "      <td>['ZelenskyyUa']</td>\n",
       "    </tr>\n",
       "    <tr>\n",
       "      <th>3</th>\n",
       "      <td>[]</td>\n",
       "    </tr>\n",
       "    <tr>\n",
       "      <th>4</th>\n",
       "      <td>['ChinaUncensored']</td>\n",
       "    </tr>\n",
       "  </tbody>\n",
       "</table>\n",
       "</div>"
      ],
      "text/plain": [
       "         user_mentions\n",
       "0        ['i_ameztoy']\n",
       "1     ['IndoPac_Info']\n",
       "2      ['ZelenskyyUa']\n",
       "3                   []\n",
       "4  ['ChinaUncensored']"
      ]
     },
     "execution_count": 30,
     "metadata": {},
     "output_type": "execute_result"
    }
   ],
   "source": [
    "#create dataframe where each user_mention gets its own row\n",
    "flattened_user_mentions = []\n",
    "for user_mentions_list in user_mentions_list_df:\n",
    "    user_mentions_list = user_mentions_list.split(\" \")\n",
    "    for user_mentions in user_mentions_list:\n",
    "        flattened_user_mentions.append(user_mentions)\n",
    "flattened_user_mentions_df = pd.DataFrame(flattened_user_mentions, columns=['user_mentions'])\n",
    "flattened_user_mentions_df.head()"
   ]
  },
  {
   "cell_type": "code",
   "execution_count": 31,
   "metadata": {},
   "outputs": [
    {
     "data": {
      "text/plain": [
       "user_mentions      \n",
       "[]                     3302\n",
       "['IndoPac_Info']       1752\n",
       "['CGMeifangZhang']     1547\n",
       "['SpokespersonCHN']    1485\n",
       "['WilliamYang120']      637\n",
       "                       ... \n",
       "['KuoFernLab']            1\n",
       "'WSJ',                    1\n",
       "['KwasiKwarteng']         1\n",
       "'WPipperger']             1\n",
       "['FactsofTR']             1\n",
       "Length: 3653, dtype: int64"
      ]
     },
     "execution_count": 31,
     "metadata": {},
     "output_type": "execute_result"
    }
   ],
   "source": [
    "flattened_user_mentions_df.value_counts()\n"
   ]
  },
  {
   "cell_type": "code",
   "execution_count": 32,
   "metadata": {},
   "outputs": [
    {
     "data": {
      "image/png": "[encoded data removed]",
      "text/plain": [
       "<Figure size 432x288 with 1 Axes>"
      ]
     },
     "metadata": {},
     "output_type": "display_data"
    }
   ],
   "source": [
    "flattened_user_mentions_df.value_counts().head(7).plot(kind=\"pie\");\n"
   ]
  },
  {
   "cell_type": "markdown",
   "metadata": {},
   "source": [
    "## Sentiments\n"
   ]
  },
  {
   "cell_type": "code",
   "execution_count": 33,
   "metadata": {},
   "outputs": [
    {
     "data": {
      "text/plain": [
       "neutral     8980\n",
       "positive    8187\n",
       "negative    4833\n",
       "Name: sentiment, dtype: int64"
      ]
     },
     "execution_count": 33,
     "metadata": {},
     "output_type": "execute_result"
    }
   ],
   "source": [
    "tweets_df['sentiment'].value_counts()\n"
   ]
  },
  {
   "cell_type": "code",
   "execution_count": 34,
   "metadata": {},
   "outputs": [
    {
     "data": {
      "image/png": "[encoded data removed]",
      "text/plain": [
       "<Figure size 432x288 with 1 Axes>"
      ]
     },
     "metadata": {},
     "output_type": "display_data"
    }
   ],
   "source": [
    "tweets_df[\"sentiment\"].value_counts().plot(kind=\"pie\");\n"
   ]
  },
  {
   "cell_type": "markdown",
   "metadata": {},
   "source": [
    "## Hashtags\n"
   ]
  },
  {
   "cell_type": "code",
   "execution_count": 35,
   "metadata": {},
   "outputs": [
    {
     "data": {
      "text/plain": [
       "0                                        ['City']\n",
       "1                             ['China', 'Taiwan']\n",
       "2                                   ['XiJinping']\n",
       "3                                   ['XiJinping']\n",
       "4                                              []\n",
       "                           ...                   \n",
       "21995    ['China', 'Taiwan', 'ChinaTaiwanCrisis']\n",
       "21996    ['China', 'Taiwan', 'ChinaTaiwanCrisis']\n",
       "21997                                  ['Pelosi']\n",
       "21998                         ['Taiwan', 'China']\n",
       "21999                         ['Taiwan', 'China']\n",
       "Name: hashtags, Length: 22000, dtype: object"
      ]
     },
     "execution_count": 35,
     "metadata": {},
     "output_type": "execute_result"
    }
   ],
   "source": [
    "tweets_df['hashtags']\n"
   ]
  },
  {
   "cell_type": "code",
   "execution_count": 36,
   "metadata": {},
   "outputs": [
    {
     "data": {
      "text/plain": [
       "0                                        ['City']\n",
       "1                             ['China', 'Taiwan']\n",
       "2                                   ['XiJinping']\n",
       "3                                   ['XiJinping']\n",
       "4                                              []\n",
       "                           ...                   \n",
       "21995    ['China', 'Taiwan', 'ChinaTaiwanCrisis']\n",
       "21996    ['China', 'Taiwan', 'ChinaTaiwanCrisis']\n",
       "21997                                  ['Pelosi']\n",
       "21998                         ['Taiwan', 'China']\n",
       "21999                         ['Taiwan', 'China']\n",
       "Name: hashtags, Length: 22000, dtype: object"
      ]
     },
     "execution_count": 36,
     "metadata": {},
     "output_type": "execute_result"
    }
   ],
   "source": [
    "hashtags_list_df = tweets_df.loc[tweets_df[\"hashtags\"] != \" \"]\n",
    "hashtags_list_df = hashtags_list_df['hashtags']\n",
    "hashtags_list_df"
   ]
  },
  {
   "cell_type": "code",
   "execution_count": 38,
   "metadata": {},
   "outputs": [
    {
     "data": {
      "text/html": [
       "<div>\n",
       "<style scoped>\n",
       "    .dataframe tbody tr th:only-of-type {\n",
       "        vertical-align: middle;\n",
       "    }\n",
       "\n",
       "    .dataframe tbody tr th {\n",
       "        vertical-align: top;\n",
       "    }\n",
       "\n",
       "    .dataframe thead th {\n",
       "        text-align: right;\n",
       "    }\n",
       "</style>\n",
       "<table border=\"1\" class=\"dataframe\">\n",
       "  <thead>\n",
       "    <tr style=\"text-align: right;\">\n",
       "      <th></th>\n",
       "      <th>hashtag</th>\n",
       "    </tr>\n",
       "  </thead>\n",
       "  <tbody>\n",
       "    <tr>\n",
       "      <th>0</th>\n",
       "      <td>['City']</td>\n",
       "    </tr>\n",
       "    <tr>\n",
       "      <th>1</th>\n",
       "      <td>['China',</td>\n",
       "    </tr>\n",
       "    <tr>\n",
       "      <th>2</th>\n",
       "      <td>'Taiwan']</td>\n",
       "    </tr>\n",
       "    <tr>\n",
       "      <th>3</th>\n",
       "      <td>['XiJinping']</td>\n",
       "    </tr>\n",
       "    <tr>\n",
       "      <th>4</th>\n",
       "      <td>['XiJinping']</td>\n",
       "    </tr>\n",
       "  </tbody>\n",
       "</table>\n",
       "</div>"
      ],
      "text/plain": [
       "         hashtag\n",
       "0       ['City']\n",
       "1      ['China',\n",
       "2      'Taiwan']\n",
       "3  ['XiJinping']\n",
       "4  ['XiJinping']"
      ]
     },
     "execution_count": 38,
     "metadata": {},
     "output_type": "execute_result"
    }
   ],
   "source": [
    "flattened_hashtags = []\n",
    "for hashtags_list in hashtags_list_df:\n",
    "    hashtags_list = hashtags_list.split(\" \")\n",
    "    for hashtag in hashtags_list:\n",
    "        flattened_hashtags.append(hashtag)\n",
    "flattened_hashtags_df = pd.DataFrame(flattened_hashtags, columns=['hashtag'])\n",
    "flattened_hashtags_df.head()"
   ]
  },
  {
   "cell_type": "code",
   "execution_count": 39,
   "metadata": {},
   "outputs": [
    {
     "data": {
      "text/plain": [
       "hashtag                \n",
       "['Taiwan']                 4045\n",
       "'Taiwan']                  3679\n",
       "'Taiwan',                  3113\n",
       "['Taiwan',                 2895\n",
       "[]                         2859\n",
       "                           ... \n",
       "'existentialreckoning']       1\n",
       "'Jan6th',                     1\n",
       "'explore',                    1\n",
       "'Jan6',                       1\n",
       "'1000x',                      1\n",
       "Length: 5842, dtype: int64"
      ]
     },
     "execution_count": 39,
     "metadata": {},
     "output_type": "execute_result"
    }
   ],
   "source": [
    "flattened_hashtags_df.value_counts()\n"
   ]
  },
  {
   "cell_type": "code",
   "execution_count": 40,
   "metadata": {},
   "outputs": [
    {
     "data": {
      "image/png": "[encoded data removed]",
      "text/plain": [
       "<Figure size 432x288 with 1 Axes>"
      ]
     },
     "metadata": {},
     "output_type": "display_data"
    }
   ],
   "source": [
    "flattened_hashtags_df.value_counts().head(7).plot(kind=\"pie\");\n"
   ]
  }
 ],
 "metadata": {
  "kernelspec": {
   "display_name": "Python 3.9.5 64-bit",
   "language": "python",
   "name": "python3"
  },
  "language_info": {
   "codemirror_mode": {
    "name": "ipython",
    "version": 3
   },
   "file_extension": ".py",
   "mimetype": "text/x-python",
   "name": "python",
   "nbconvert_exporter": "python",
   "pygments_lexer": "ipython3",
   "version": "3.9.5"
  },
  "orig_nbformat": 4,
  "vscode": {
   "interpreter": {
    "hash": "916dbcbb3f70747c44a77c7bcd40155683ae19c65e1c03b4aa3499c5328201f1"
   }
  }
 },
 "nbformat": 4,
 "nbformat_minor": 2
}
