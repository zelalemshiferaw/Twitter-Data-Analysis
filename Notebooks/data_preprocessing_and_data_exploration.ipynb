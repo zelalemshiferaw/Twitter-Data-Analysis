{
 "cells": [
  {
   "cell_type": "markdown",
   "metadata": {},
   "source": [
    "# Import Modules"
   ]
  },
  {
   "cell_type": "code",
   "execution_count": 2,
   "metadata": {},
   "outputs": [],
   "source": [
    "import pandas as pd\n",
    "import sys\n",
    "import os\n",
    "\n",
    "sys.path.append(os.path.abspath(os.path.join('..')))\n",
    "\n",
    "from extract_dataframe import TweetDfExtractor\n",
    "from extract_dataframe import read_json\n",
    "\n",
    "_, tweet_list = read_json(\"../data/global_twitter_data.json\")"
   ]
  },
  {
   "cell_type": "markdown",
   "metadata": {},
   "source": [
    "# Data Preprocessing\n"
   ]
  },
  {
   "cell_type": "markdown",
   "metadata": {},
   "source": [
    "## Read Given Data"
   ]
  },
  {
   "cell_type": "code",
   "execution_count": 3,
   "metadata": {},
   "outputs": [
    {
     "data": {
      "text/html": [
       "<div>\n",
       "<style scoped>\n",
       "    .dataframe tbody tr th:only-of-type {\n",
       "        vertical-align: middle;\n",
       "    }\n",
       "\n",
       "    .dataframe tbody tr th {\n",
       "        vertical-align: top;\n",
       "    }\n",
       "\n",
       "    .dataframe thead th {\n",
       "        text-align: right;\n",
       "    }\n",
       "</style>\n",
       "<table border=\"1\" class=\"dataframe\">\n",
       "  <thead>\n",
       "    <tr style=\"text-align: right;\">\n",
       "      <th></th>\n",
       "      <th>created_at</th>\n",
       "      <th>source</th>\n",
       "      <th>full_text</th>\n",
       "      <th>polarity</th>\n",
       "      <th>subjectivity</th>\n",
       "      <th>lang</th>\n",
       "      <th>favorite_count</th>\n",
       "      <th>retweet_count</th>\n",
       "      <th>original_author</th>\n",
       "      <th>followers_count</th>\n",
       "      <th>friends_count</th>\n",
       "      <th>possibly_sensitive</th>\n",
       "      <th>hashtags</th>\n",
       "      <th>user_mentions</th>\n",
       "      <th>place</th>\n",
       "    </tr>\n",
       "  </thead>\n",
       "  <tbody>\n",
       "    <tr>\n",
       "      <th>0</th>\n",
       "      <td>Sun Aug 07 22:31:20 +0000 2022</td>\n",
       "      <td>&lt;a href=\"http://twitter.com/download/android\" ...</td>\n",
       "      <td>RT @i_ameztoy: Extra random image (I):\\n\\nLets...</td>\n",
       "      <td>-1.250000e-01</td>\n",
       "      <td>0.190625</td>\n",
       "      <td>en</td>\n",
       "      <td>15760</td>\n",
       "      <td>2</td>\n",
       "      <td>i_ameztoy</td>\n",
       "      <td>20497</td>\n",
       "      <td>2621</td>\n",
       "      <td>None</td>\n",
       "      <td>[City]</td>\n",
       "      <td>[i_ameztoy]</td>\n",
       "      <td></td>\n",
       "    </tr>\n",
       "    <tr>\n",
       "      <th>1</th>\n",
       "      <td>Sun Aug 07 22:31:16 +0000 2022</td>\n",
       "      <td>&lt;a href=\"http://twitter.com/download/android\" ...</td>\n",
       "      <td>RT @IndoPac_Info: #China's media explains the ...</td>\n",
       "      <td>-1.000000e-01</td>\n",
       "      <td>0.100000</td>\n",
       "      <td>en</td>\n",
       "      <td>6967</td>\n",
       "      <td>201</td>\n",
       "      <td>ZIisq</td>\n",
       "      <td>65</td>\n",
       "      <td>272</td>\n",
       "      <td>None</td>\n",
       "      <td>[China, Taiwan]</td>\n",
       "      <td>[IndoPac_Info]</td>\n",
       "      <td></td>\n",
       "    </tr>\n",
       "    <tr>\n",
       "      <th>2</th>\n",
       "      <td>Sun Aug 07 22:31:07 +0000 2022</td>\n",
       "      <td>&lt;a href=\"http://twitter.com/download/android\" ...</td>\n",
       "      <td>China even cut off communication, they don't a...</td>\n",
       "      <td>0.000000e+00</td>\n",
       "      <td>0.000000</td>\n",
       "      <td>en</td>\n",
       "      <td>2166</td>\n",
       "      <td>0</td>\n",
       "      <td>Fin21Free</td>\n",
       "      <td>85</td>\n",
       "      <td>392</td>\n",
       "      <td>None</td>\n",
       "      <td>[XiJinping]</td>\n",
       "      <td>[ZelenskyyUa]</td>\n",
       "      <td>Netherlands</td>\n",
       "    </tr>\n",
       "    <tr>\n",
       "      <th>3</th>\n",
       "      <td>Sun Aug 07 22:31:06 +0000 2022</td>\n",
       "      <td>&lt;a href=\"http://twitter.com/download/android\" ...</td>\n",
       "      <td>Putin to #XiJinping : I told you my friend, Ta...</td>\n",
       "      <td>1.000000e-01</td>\n",
       "      <td>0.350000</td>\n",
       "      <td>en</td>\n",
       "      <td>2166</td>\n",
       "      <td>0</td>\n",
       "      <td>Fin21Free</td>\n",
       "      <td>85</td>\n",
       "      <td>392</td>\n",
       "      <td>None</td>\n",
       "      <td>[XiJinping]</td>\n",
       "      <td>[]</td>\n",
       "      <td>Netherlands</td>\n",
       "    </tr>\n",
       "    <tr>\n",
       "      <th>4</th>\n",
       "      <td>Sun Aug 07 22:31:04 +0000 2022</td>\n",
       "      <td>&lt;a href=\"http://twitter.com/download/iphone\" r...</td>\n",
       "      <td>RT @ChinaUncensored: I’m sorry, I thought Taiw...</td>\n",
       "      <td>-6.938894e-18</td>\n",
       "      <td>0.556250</td>\n",
       "      <td>en</td>\n",
       "      <td>17247</td>\n",
       "      <td>381</td>\n",
       "      <td>VizziniDolores</td>\n",
       "      <td>910</td>\n",
       "      <td>2608</td>\n",
       "      <td>None</td>\n",
       "      <td>[]</td>\n",
       "      <td>[ChinaUncensored]</td>\n",
       "      <td>Ayent, Schweiz</td>\n",
       "    </tr>\n",
       "  </tbody>\n",
       "</table>\n",
       "</div>"
      ],
      "text/plain": [
       "                       created_at  \\\n",
       "0  Sun Aug 07 22:31:20 +0000 2022   \n",
       "1  Sun Aug 07 22:31:16 +0000 2022   \n",
       "2  Sun Aug 07 22:31:07 +0000 2022   \n",
       "3  Sun Aug 07 22:31:06 +0000 2022   \n",
       "4  Sun Aug 07 22:31:04 +0000 2022   \n",
       "\n",
       "                                              source  \\\n",
       "0  <a href=\"http://twitter.com/download/android\" ...   \n",
       "1  <a href=\"http://twitter.com/download/android\" ...   \n",
       "2  <a href=\"http://twitter.com/download/android\" ...   \n",
       "3  <a href=\"http://twitter.com/download/android\" ...   \n",
       "4  <a href=\"http://twitter.com/download/iphone\" r...   \n",
       "\n",
       "                                           full_text      polarity  \\\n",
       "0  RT @i_ameztoy: Extra random image (I):\\n\\nLets... -1.250000e-01   \n",
       "1  RT @IndoPac_Info: #China's media explains the ... -1.000000e-01   \n",
       "2  China even cut off communication, they don't a...  0.000000e+00   \n",
       "3  Putin to #XiJinping : I told you my friend, Ta...  1.000000e-01   \n",
       "4  RT @ChinaUncensored: I’m sorry, I thought Taiw... -6.938894e-18   \n",
       "\n",
       "   subjectivity lang  favorite_count  retweet_count original_author  \\\n",
       "0      0.190625   en           15760              2       i_ameztoy   \n",
       "1      0.100000   en            6967            201           ZIisq   \n",
       "2      0.000000   en            2166              0       Fin21Free   \n",
       "3      0.350000   en            2166              0       Fin21Free   \n",
       "4      0.556250   en           17247            381  VizziniDolores   \n",
       "\n",
       "   followers_count  friends_count possibly_sensitive         hashtags  \\\n",
       "0            20497           2621               None           [City]   \n",
       "1               65            272               None  [China, Taiwan]   \n",
       "2               85            392               None      [XiJinping]   \n",
       "3               85            392               None      [XiJinping]   \n",
       "4              910           2608               None               []   \n",
       "\n",
       "       user_mentions           place  \n",
       "0        [i_ameztoy]                  \n",
       "1     [IndoPac_Info]                  \n",
       "2      [ZelenskyyUa]     Netherlands  \n",
       "3                 []     Netherlands  \n",
       "4  [ChinaUncensored]  Ayent, Schweiz  "
      ]
     },
     "execution_count": 3,
     "metadata": {},
     "output_type": "execute_result"
    }
   ],
   "source": [
    "tweets_df_extractor = TweetDfExtractor(tweet_list)\n",
    "tweets_df = tweets_df_extractor.get_tweet_df()\n",
    "tweets_df.head()"
   ]
  },
  {
   "cell_type": "code",
   "execution_count": 4,
   "metadata": {},
   "outputs": [
    {
     "name": "stdout",
     "output_type": "stream",
     "text": [
      "<class 'pandas.core.frame.DataFrame'>\n",
      "RangeIndex: 22000 entries, 0 to 21999\n",
      "Data columns (total 15 columns):\n",
      " #   Column              Non-Null Count  Dtype  \n",
      "---  ------              --------------  -----  \n",
      " 0   created_at          22000 non-null  object \n",
      " 1   source              22000 non-null  object \n",
      " 2   full_text           22000 non-null  object \n",
      " 3   polarity            22000 non-null  float64\n",
      " 4   subjectivity        22000 non-null  float64\n",
      " 5   lang                22000 non-null  object \n",
      " 6   favorite_count      22000 non-null  int64  \n",
      " 7   retweet_count       22000 non-null  int64  \n",
      " 8   original_author     22000 non-null  object \n",
      " 9   followers_count     22000 non-null  int64  \n",
      " 10  friends_count       22000 non-null  int64  \n",
      " 11  possibly_sensitive  6191 non-null   object \n",
      " 12  hashtags            22000 non-null  object \n",
      " 13  user_mentions       22000 non-null  object \n",
      " 14  place               22000 non-null  object \n",
      "dtypes: float64(2), int64(4), object(9)\n",
      "memory usage: 2.5+ MB\n"
     ]
    }
   ],
   "source": [
    "tweets_df.info()"
   ]
  },
  {
   "cell_type": "markdown",
   "metadata": {},
   "source": [
    "## Removing Duplicate Rows"
   ]
  },
  {
   "cell_type": "code",
   "execution_count": 5,
   "metadata": {},
   "outputs": [
    {
     "name": "stdout",
     "output_type": "stream",
     "text": [
      "Automation in Action...!!!\n"
     ]
    }
   ],
   "source": [
    "from clean_tweets_dataframe import Clean_Tweets\n",
    "clean_tweets = Clean_Tweets(tweets_df)"
   ]
  },
  {
   "cell_type": "code",
   "execution_count": 6,
   "metadata": {},
   "outputs": [
    {
     "data": {
      "text/plain": [
       "(22000, 15)"
      ]
     },
     "execution_count": 6,
     "metadata": {},
     "output_type": "execute_result"
    }
   ],
   "source": [
    "tweets_df.shape\n"
   ]
  },
  {
   "cell_type": "code",
   "execution_count": 7,
   "metadata": {},
   "outputs": [
    {
     "ename": "TypeError",
     "evalue": "unhashable type: 'list'",
     "output_type": "error",
     "traceback": [
      "\u001b[0;31m---------------------------------------------------------------------------\u001b[0m",
      "\u001b[0;31mTypeError\u001b[0m                                 Traceback (most recent call last)",
      "\u001b[1;32m/home/zelax/Twitter-Data-Analysis/Notebooks/data_preprocessing_and_data_exploration.ipynb Cell 10\u001b[0m in \u001b[0;36m<cell line: 1>\u001b[0;34m()\u001b[0m\n\u001b[0;32m----> <a href='vscode-notebook-cell:/home/zelax/Twitter-Data-Analysis/Notebooks/data_preprocessing_and_data_exploration.ipynb#X46sZmlsZQ%3D%3D?line=0'>1</a>\u001b[0m clean_tweets\u001b[39m.\u001b[39;49mdrop_duplicate(tweets_df)\n\u001b[1;32m      <a href='vscode-notebook-cell:/home/zelax/Twitter-Data-Analysis/Notebooks/data_preprocessing_and_data_exploration.ipynb#X46sZmlsZQ%3D%3D?line=1'>2</a>\u001b[0m tweets_df\u001b[39m.\u001b[39mshape\n",
      "File \u001b[0;32m~/Twitter-Data-Analysis/clean_tweets_dataframe.py:28\u001b[0m, in \u001b[0;36mClean_Tweets.drop_duplicate\u001b[0;34m(self, df)\u001b[0m\n\u001b[1;32m     23\u001b[0m \u001b[39mdef\u001b[39;00m \u001b[39mdrop_duplicate\u001b[39m(\u001b[39mself\u001b[39m, df:pd\u001b[39m.\u001b[39mDataFrame)\u001b[39m-\u001b[39m\u001b[39m>\u001b[39mpd\u001b[39m.\u001b[39mDataFrame:\n\u001b[1;32m     24\u001b[0m     \u001b[39m\"\"\"\u001b[39;00m\n\u001b[1;32m     25\u001b[0m \u001b[39m    drop duplicate rows\u001b[39;00m\n\u001b[1;32m     26\u001b[0m \u001b[39m    \"\"\"\u001b[39;00m\n\u001b[0;32m---> 28\u001b[0m     df \u001b[39m=\u001b[39m \u001b[39mself\u001b[39;49m\u001b[39m.\u001b[39;49mdf\u001b[39m.\u001b[39;49mdrop_duplicates()\n\u001b[1;32m     29\u001b[0m     \u001b[39mreturn\u001b[39;00m df\n",
      "File \u001b[0;32m/usr/local/lib/python3.9/dist-packages/pandas/util/_decorators.py:311\u001b[0m, in \u001b[0;36mdeprecate_nonkeyword_arguments.<locals>.decorate.<locals>.wrapper\u001b[0;34m(*args, **kwargs)\u001b[0m\n\u001b[1;32m    305\u001b[0m \u001b[39mif\u001b[39;00m \u001b[39mlen\u001b[39m(args) \u001b[39m>\u001b[39m num_allow_args:\n\u001b[1;32m    306\u001b[0m     warnings\u001b[39m.\u001b[39mwarn(\n\u001b[1;32m    307\u001b[0m         msg\u001b[39m.\u001b[39mformat(arguments\u001b[39m=\u001b[39marguments),\n\u001b[1;32m    308\u001b[0m         \u001b[39mFutureWarning\u001b[39;00m,\n\u001b[1;32m    309\u001b[0m         stacklevel\u001b[39m=\u001b[39mstacklevel,\n\u001b[1;32m    310\u001b[0m     )\n\u001b[0;32m--> 311\u001b[0m \u001b[39mreturn\u001b[39;00m func(\u001b[39m*\u001b[39;49margs, \u001b[39m*\u001b[39;49m\u001b[39m*\u001b[39;49mkwargs)\n",
      "File \u001b[0;32m/usr/local/lib/python3.9/dist-packages/pandas/core/frame.py:6063\u001b[0m, in \u001b[0;36mDataFrame.drop_duplicates\u001b[0;34m(self, subset, keep, inplace, ignore_index)\u001b[0m\n\u001b[1;32m   6061\u001b[0m inplace \u001b[39m=\u001b[39m validate_bool_kwarg(inplace, \u001b[39m\"\u001b[39m\u001b[39minplace\u001b[39m\u001b[39m\"\u001b[39m)\n\u001b[1;32m   6062\u001b[0m ignore_index \u001b[39m=\u001b[39m validate_bool_kwarg(ignore_index, \u001b[39m\"\u001b[39m\u001b[39mignore_index\u001b[39m\u001b[39m\"\u001b[39m)\n\u001b[0;32m-> 6063\u001b[0m duplicated \u001b[39m=\u001b[39m \u001b[39mself\u001b[39;49m\u001b[39m.\u001b[39;49mduplicated(subset, keep\u001b[39m=\u001b[39;49mkeep)\n\u001b[1;32m   6065\u001b[0m result \u001b[39m=\u001b[39m \u001b[39mself\u001b[39m[\u001b[39m-\u001b[39mduplicated]\n\u001b[1;32m   6066\u001b[0m \u001b[39mif\u001b[39;00m ignore_index:\n",
      "File \u001b[0;32m/usr/local/lib/python3.9/dist-packages/pandas/core/frame.py:6200\u001b[0m, in \u001b[0;36mDataFrame.duplicated\u001b[0;34m(self, subset, keep)\u001b[0m\n\u001b[1;32m   6197\u001b[0m     \u001b[39mraise\u001b[39;00m \u001b[39mKeyError\u001b[39;00m(diff)\n\u001b[1;32m   6199\u001b[0m vals \u001b[39m=\u001b[39m (col\u001b[39m.\u001b[39mvalues \u001b[39mfor\u001b[39;00m name, col \u001b[39min\u001b[39;00m \u001b[39mself\u001b[39m\u001b[39m.\u001b[39mitems() \u001b[39mif\u001b[39;00m name \u001b[39min\u001b[39;00m subset)\n\u001b[0;32m-> 6200\u001b[0m labels, shape \u001b[39m=\u001b[39m \u001b[39mmap\u001b[39m(\u001b[39mlist\u001b[39m, \u001b[39mzip\u001b[39;49m(\u001b[39m*\u001b[39;49m\u001b[39mmap\u001b[39;49m(f, vals)))\n\u001b[1;32m   6202\u001b[0m ids \u001b[39m=\u001b[39m get_group_index(\n\u001b[1;32m   6203\u001b[0m     labels,\n\u001b[1;32m   6204\u001b[0m     \u001b[39m# error: Argument 1 to \"tuple\" has incompatible type \"List[_T]\";\u001b[39;00m\n\u001b[0;32m   (...)\u001b[0m\n\u001b[1;32m   6208\u001b[0m     xnull\u001b[39m=\u001b[39m\u001b[39mFalse\u001b[39;00m,\n\u001b[1;32m   6209\u001b[0m )\n\u001b[1;32m   6210\u001b[0m result \u001b[39m=\u001b[39m \u001b[39mself\u001b[39m\u001b[39m.\u001b[39m_constructor_sliced(duplicated(ids, keep), index\u001b[39m=\u001b[39m\u001b[39mself\u001b[39m\u001b[39m.\u001b[39mindex)\n",
      "File \u001b[0;32m/usr/local/lib/python3.9/dist-packages/pandas/core/frame.py:6173\u001b[0m, in \u001b[0;36mDataFrame.duplicated.<locals>.f\u001b[0;34m(vals)\u001b[0m\n\u001b[1;32m   6172\u001b[0m \u001b[39mdef\u001b[39;00m \u001b[39mf\u001b[39m(vals) \u001b[39m-\u001b[39m\u001b[39m>\u001b[39m \u001b[39mtuple\u001b[39m[np\u001b[39m.\u001b[39mndarray, \u001b[39mint\u001b[39m]:\n\u001b[0;32m-> 6173\u001b[0m     labels, shape \u001b[39m=\u001b[39m algorithms\u001b[39m.\u001b[39;49mfactorize(vals, size_hint\u001b[39m=\u001b[39;49m\u001b[39mlen\u001b[39;49m(\u001b[39mself\u001b[39;49m))\n\u001b[1;32m   6174\u001b[0m     \u001b[39mreturn\u001b[39;00m labels\u001b[39m.\u001b[39mastype(\u001b[39m\"\u001b[39m\u001b[39mi8\u001b[39m\u001b[39m\"\u001b[39m, copy\u001b[39m=\u001b[39m\u001b[39mFalse\u001b[39;00m), \u001b[39mlen\u001b[39m(shape)\n",
      "File \u001b[0;32m/usr/local/lib/python3.9/dist-packages/pandas/core/algorithms.py:761\u001b[0m, in \u001b[0;36mfactorize\u001b[0;34m(values, sort, na_sentinel, size_hint)\u001b[0m\n\u001b[1;32m    758\u001b[0m     \u001b[39melse\u001b[39;00m:\n\u001b[1;32m    759\u001b[0m         na_value \u001b[39m=\u001b[39m \u001b[39mNone\u001b[39;00m\n\u001b[0;32m--> 761\u001b[0m     codes, uniques \u001b[39m=\u001b[39m factorize_array(\n\u001b[1;32m    762\u001b[0m         values, na_sentinel\u001b[39m=\u001b[39;49mna_sentinel, size_hint\u001b[39m=\u001b[39;49msize_hint, na_value\u001b[39m=\u001b[39;49mna_value\n\u001b[1;32m    763\u001b[0m     )\n\u001b[1;32m    765\u001b[0m \u001b[39mif\u001b[39;00m sort \u001b[39mand\u001b[39;00m \u001b[39mlen\u001b[39m(uniques) \u001b[39m>\u001b[39m \u001b[39m0\u001b[39m:\n\u001b[1;32m    766\u001b[0m     uniques, codes \u001b[39m=\u001b[39m safe_sort(\n\u001b[1;32m    767\u001b[0m         uniques, codes, na_sentinel\u001b[39m=\u001b[39mna_sentinel, assume_unique\u001b[39m=\u001b[39m\u001b[39mTrue\u001b[39;00m, verify\u001b[39m=\u001b[39m\u001b[39mFalse\u001b[39;00m\n\u001b[1;32m    768\u001b[0m     )\n",
      "File \u001b[0;32m/usr/local/lib/python3.9/dist-packages/pandas/core/algorithms.py:563\u001b[0m, in \u001b[0;36mfactorize_array\u001b[0;34m(values, na_sentinel, size_hint, na_value, mask)\u001b[0m\n\u001b[1;32m    560\u001b[0m hash_klass, values \u001b[39m=\u001b[39m get_data_algo(values)\n\u001b[1;32m    562\u001b[0m table \u001b[39m=\u001b[39m hash_klass(size_hint \u001b[39mor\u001b[39;00m \u001b[39mlen\u001b[39m(values))\n\u001b[0;32m--> 563\u001b[0m uniques, codes \u001b[39m=\u001b[39m table\u001b[39m.\u001b[39;49mfactorize(\n\u001b[1;32m    564\u001b[0m     values, na_sentinel\u001b[39m=\u001b[39;49mna_sentinel, na_value\u001b[39m=\u001b[39;49mna_value, mask\u001b[39m=\u001b[39;49mmask\n\u001b[1;32m    565\u001b[0m )\n\u001b[1;32m    567\u001b[0m codes \u001b[39m=\u001b[39m ensure_platform_int(codes)\n\u001b[1;32m    568\u001b[0m \u001b[39mreturn\u001b[39;00m codes, uniques\n",
      "File \u001b[0;32mpandas/_libs/hashtable_class_helper.pxi:5396\u001b[0m, in \u001b[0;36mpandas._libs.hashtable.PyObjectHashTable.factorize\u001b[0;34m()\u001b[0m\n",
      "File \u001b[0;32mpandas/_libs/hashtable_class_helper.pxi:5310\u001b[0m, in \u001b[0;36mpandas._libs.hashtable.PyObjectHashTable._unique\u001b[0;34m()\u001b[0m\n",
      "\u001b[0;31mTypeError\u001b[0m: unhashable type: 'list'"
     ]
    }
   ],
   "source": [
    "clean_tweets.drop_duplicate(tweets_df)\n",
    "tweets_df.shape"
   ]
  },
  {
   "cell_type": "markdown",
   "metadata": {},
   "source": [
    "## Remove Non English Tweets"
   ]
  },
  {
   "cell_type": "code",
   "execution_count": 8,
   "metadata": {},
   "outputs": [
    {
     "data": {
      "text/plain": [
       "(22000, 15)"
      ]
     },
     "execution_count": 8,
     "metadata": {},
     "output_type": "execute_result"
    }
   ],
   "source": [
    "tweets_df = clean_tweets.remove_non_english_tweets(tweets_df)\n",
    "tweets_df.shape"
   ]
  },
  {
   "cell_type": "markdown",
   "metadata": {},
   "source": [
    "## Manage Missing values\n"
   ]
  },
  {
   "cell_type": "code",
   "execution_count": 9,
   "metadata": {},
   "outputs": [
    {
     "data": {
      "text/plain": [
       "created_at                0\n",
       "source                    0\n",
       "full_text                 0\n",
       "polarity                  0\n",
       "subjectivity              0\n",
       "lang                      0\n",
       "favorite_count            0\n",
       "retweet_count             0\n",
       "original_author           0\n",
       "followers_count           0\n",
       "friends_count             0\n",
       "possibly_sensitive    15809\n",
       "hashtags                  0\n",
       "user_mentions             0\n",
       "place                     0\n",
       "dtype: int64"
      ]
     },
     "execution_count": 9,
     "metadata": {},
     "output_type": "execute_result"
    }
   ],
   "source": [
    "tweets_df.isna().sum()\n"
   ]
  },
  {
   "cell_type": "markdown",
   "metadata": {},
   "source": [
    "## Manage Missing Data\n"
   ]
  },
  {
   "cell_type": "code",
   "execution_count": 10,
   "metadata": {},
   "outputs": [
    {
     "data": {
      "text/plain": [
       "created_at            0\n",
       "source                0\n",
       "full_text             0\n",
       "polarity              0\n",
       "subjectivity          0\n",
       "lang                  0\n",
       "favorite_count        0\n",
       "retweet_count         0\n",
       "original_author       0\n",
       "followers_count       0\n",
       "friends_count         0\n",
       "possibly_sensitive    0\n",
       "hashtags              0\n",
       "user_mentions         0\n",
       "place                 0\n",
       "dtype: int64"
      ]
     },
     "execution_count": 10,
     "metadata": {},
     "output_type": "execute_result"
    }
   ],
   "source": [
    "tweets_df['possibly_sensitive'] = tweets_df['possibly_sensitive'].fillna(\"not_found\")\n",
    "tweets_df.isna().sum()\n"
   ]
  },
  {
   "cell_type": "code",
   "execution_count": 11,
   "metadata": {},
   "outputs": [
    {
     "data": {
      "text/plain": [
       "(9892, 15)"
      ]
     },
     "execution_count": 11,
     "metadata": {},
     "output_type": "execute_result"
    }
   ],
   "source": [
    "tweets_df[tweets_df['place'] == ''].shape\n"
   ]
  },
  {
   "cell_type": "code",
   "execution_count": 12,
   "metadata": {},
   "outputs": [
    {
     "data": {
      "text/plain": [
       "created_at            0\n",
       "source                0\n",
       "full_text             0\n",
       "polarity              0\n",
       "subjectivity          0\n",
       "lang                  0\n",
       "favorite_count        0\n",
       "retweet_count         0\n",
       "original_author       0\n",
       "followers_count       0\n",
       "friends_count         0\n",
       "possibly_sensitive    0\n",
       "hashtags              0\n",
       "user_mentions         0\n",
       "place                 0\n",
       "dtype: int64"
      ]
     },
     "execution_count": 12,
     "metadata": {},
     "output_type": "execute_result"
    }
   ],
   "source": [
    "tweets_df['place'] = tweets_df['place'].fillna(\"not_known\")\n",
    "tweets_df.isna().sum()"
   ]
  },
  {
   "cell_type": "markdown",
   "metadata": {},
   "source": [
    "## Remove Unwanted Characters\n"
   ]
  },
  {
   "cell_type": "code",
   "execution_count": 13,
   "metadata": {},
   "outputs": [
    {
     "data": {
      "text/plain": [
       "created_at            0\n",
       "source                0\n",
       "full_text             0\n",
       "polarity              0\n",
       "subjectivity          0\n",
       "lang                  0\n",
       "favorite_count        0\n",
       "retweet_count         0\n",
       "original_author       0\n",
       "followers_count       0\n",
       "friends_count         0\n",
       "possibly_sensitive    0\n",
       "hashtags              0\n",
       "user_mentions         0\n",
       "place                 0\n",
       "dtype: int64"
      ]
     },
     "execution_count": 13,
     "metadata": {},
     "output_type": "execute_result"
    }
   ],
   "source": [
    "tweets_df = clean_tweets.remove_place_characters(tweets_df)\n",
    "tweets_df.isna().sum()"
   ]
  },
  {
   "cell_type": "markdown",
   "metadata": {},
   "source": [
    "## Convert to Datetime\n"
   ]
  },
  {
   "cell_type": "code",
   "execution_count": 14,
   "metadata": {},
   "outputs": [
    {
     "name": "stdout",
     "output_type": "stream",
     "text": [
      "<class 'pandas.core.frame.DataFrame'>\n",
      "Int64Index: 22000 entries, 0 to 21999\n",
      "Data columns (total 15 columns):\n",
      " #   Column              Non-Null Count  Dtype              \n",
      "---  ------              --------------  -----              \n",
      " 0   created_at          22000 non-null  datetime64[ns, UTC]\n",
      " 1   source              22000 non-null  object             \n",
      " 2   full_text           22000 non-null  object             \n",
      " 3   polarity            22000 non-null  float64            \n",
      " 4   subjectivity        22000 non-null  float64            \n",
      " 5   lang                22000 non-null  object             \n",
      " 6   favorite_count      22000 non-null  int64              \n",
      " 7   retweet_count       22000 non-null  int64              \n",
      " 8   original_author     22000 non-null  object             \n",
      " 9   followers_count     22000 non-null  int64              \n",
      " 10  friends_count       22000 non-null  int64              \n",
      " 11  possibly_sensitive  22000 non-null  object             \n",
      " 12  hashtags            22000 non-null  object             \n",
      " 13  user_mentions       22000 non-null  object             \n",
      " 14  place               22000 non-null  object             \n",
      "dtypes: datetime64[ns, UTC](1), float64(2), int64(4), object(8)\n",
      "memory usage: 2.7+ MB\n"
     ]
    }
   ],
   "source": [
    "tweets_df = clean_tweets.convert_to_datetime(tweets_df)\n",
    "tweets_df.info()"
   ]
  },
  {
   "cell_type": "markdown",
   "metadata": {},
   "source": [
    "## Extract device from source text\n"
   ]
  },
  {
   "cell_type": "code",
   "execution_count": 15,
   "metadata": {},
   "outputs": [
    {
     "data": {
      "text/plain": [
       "0    <a href=\"http://twitter.com/download/android\" ...\n",
       "1    <a href=\"http://twitter.com/download/android\" ...\n",
       "2    <a href=\"http://twitter.com/download/android\" ...\n",
       "3    <a href=\"http://twitter.com/download/android\" ...\n",
       "4    <a href=\"http://twitter.com/download/iphone\" r...\n",
       "5    <a href=\"http://twitter.com/download/android\" ...\n",
       "6    <a href=\"http://twitter.com/download/android\" ...\n",
       "7    <a href=\"http://twitter.com/download/android\" ...\n",
       "8    <a href=\"http://twitter.com/download/android\" ...\n",
       "9    <a href=\"https://mobile.twitter.com\" rel=\"nofo...\n",
       "Name: source, dtype: object"
      ]
     },
     "execution_count": 15,
     "metadata": {},
     "output_type": "execute_result"
    }
   ],
   "source": [
    "tweets_df['source'][:10]\n"
   ]
  },
  {
   "cell_type": "markdown",
   "metadata": {},
   "source": [
    "## Save Preproccessed Data"
   ]
  },
  {
   "cell_type": "code",
   "execution_count": 16,
   "metadata": {},
   "outputs": [],
   "source": [
    "tweets_df.to_csv(\"../data/global_twitter_preprocessed_data.csv\", index=False)\n"
   ]
  },
  {
   "cell_type": "markdown",
   "metadata": {},
   "source": [
    "# Data Exploration\n"
   ]
  },
  {
   "cell_type": "markdown",
   "metadata": {},
   "source": [
    "## Getting Preprocessed data"
   ]
  },
  {
   "cell_type": "code",
   "execution_count": 17,
   "metadata": {},
   "outputs": [],
   "source": [
    "#It is all about getting some insight and understanding the extracted data.\n",
    "tweets_df = pd.read_csv(\"../data/global_twitter_preprocessed_data.csv\")\n"
   ]
  },
  {
   "cell_type": "code",
   "execution_count": 18,
   "metadata": {},
   "outputs": [
    {
     "data": {
      "text/html": [
       "<div>\n",
       "<style scoped>\n",
       "    .dataframe tbody tr th:only-of-type {\n",
       "        vertical-align: middle;\n",
       "    }\n",
       "\n",
       "    .dataframe tbody tr th {\n",
       "        vertical-align: top;\n",
       "    }\n",
       "\n",
       "    .dataframe thead th {\n",
       "        text-align: right;\n",
       "    }\n",
       "</style>\n",
       "<table border=\"1\" class=\"dataframe\">\n",
       "  <thead>\n",
       "    <tr style=\"text-align: right;\">\n",
       "      <th></th>\n",
       "      <th>created_at</th>\n",
       "      <th>source</th>\n",
       "      <th>full_text</th>\n",
       "      <th>polarity</th>\n",
       "      <th>subjectivity</th>\n",
       "      <th>lang</th>\n",
       "      <th>favorite_count</th>\n",
       "      <th>retweet_count</th>\n",
       "      <th>original_author</th>\n",
       "      <th>followers_count</th>\n",
       "      <th>friends_count</th>\n",
       "      <th>possibly_sensitive</th>\n",
       "      <th>hashtags</th>\n",
       "      <th>user_mentions</th>\n",
       "      <th>place</th>\n",
       "    </tr>\n",
       "  </thead>\n",
       "  <tbody>\n",
       "    <tr>\n",
       "      <th>0</th>\n",
       "      <td>2022-08-07 22:31:20+00:00</td>\n",
       "      <td>&lt;a href=\"http://twitter.com/download/android\" ...</td>\n",
       "      <td>RT @i_ameztoy: Extra random image (I):\\n\\nLets...</td>\n",
       "      <td>-1.250000e-01</td>\n",
       "      <td>0.190625</td>\n",
       "      <td>en</td>\n",
       "      <td>15760</td>\n",
       "      <td>2</td>\n",
       "      <td>i_ameztoy</td>\n",
       "      <td>20497</td>\n",
       "      <td>2621</td>\n",
       "      <td>not_found</td>\n",
       "      <td>['City']</td>\n",
       "      <td>['i_ameztoy']</td>\n",
       "      <td>NaN</td>\n",
       "    </tr>\n",
       "    <tr>\n",
       "      <th>1</th>\n",
       "      <td>2022-08-07 22:31:16+00:00</td>\n",
       "      <td>&lt;a href=\"http://twitter.com/download/android\" ...</td>\n",
       "      <td>RT @IndoPac_Info: #China's media explains the ...</td>\n",
       "      <td>-1.000000e-01</td>\n",
       "      <td>0.100000</td>\n",
       "      <td>en</td>\n",
       "      <td>6967</td>\n",
       "      <td>201</td>\n",
       "      <td>ZIisq</td>\n",
       "      <td>65</td>\n",
       "      <td>272</td>\n",
       "      <td>not_found</td>\n",
       "      <td>['China', 'Taiwan']</td>\n",
       "      <td>['IndoPac_Info']</td>\n",
       "      <td>NaN</td>\n",
       "    </tr>\n",
       "    <tr>\n",
       "      <th>2</th>\n",
       "      <td>2022-08-07 22:31:07+00:00</td>\n",
       "      <td>&lt;a href=\"http://twitter.com/download/android\" ...</td>\n",
       "      <td>China even cut off communication, they don't a...</td>\n",
       "      <td>0.000000e+00</td>\n",
       "      <td>0.000000</td>\n",
       "      <td>en</td>\n",
       "      <td>2166</td>\n",
       "      <td>0</td>\n",
       "      <td>Fin21Free</td>\n",
       "      <td>85</td>\n",
       "      <td>392</td>\n",
       "      <td>not_found</td>\n",
       "      <td>['XiJinping']</td>\n",
       "      <td>['ZelenskyyUa']</td>\n",
       "      <td>Netherlands</td>\n",
       "    </tr>\n",
       "    <tr>\n",
       "      <th>3</th>\n",
       "      <td>2022-08-07 22:31:06+00:00</td>\n",
       "      <td>&lt;a href=\"http://twitter.com/download/android\" ...</td>\n",
       "      <td>Putin to #XiJinping : I told you my friend, Ta...</td>\n",
       "      <td>1.000000e-01</td>\n",
       "      <td>0.350000</td>\n",
       "      <td>en</td>\n",
       "      <td>2166</td>\n",
       "      <td>0</td>\n",
       "      <td>Fin21Free</td>\n",
       "      <td>85</td>\n",
       "      <td>392</td>\n",
       "      <td>not_found</td>\n",
       "      <td>['XiJinping']</td>\n",
       "      <td>[]</td>\n",
       "      <td>Netherlands</td>\n",
       "    </tr>\n",
       "    <tr>\n",
       "      <th>4</th>\n",
       "      <td>2022-08-07 22:31:04+00:00</td>\n",
       "      <td>&lt;a href=\"http://twitter.com/download/iphone\" r...</td>\n",
       "      <td>RT @ChinaUncensored: I’m sorry, I thought Taiw...</td>\n",
       "      <td>-6.938894e-18</td>\n",
       "      <td>0.556250</td>\n",
       "      <td>en</td>\n",
       "      <td>17247</td>\n",
       "      <td>381</td>\n",
       "      <td>VizziniDolores</td>\n",
       "      <td>910</td>\n",
       "      <td>2608</td>\n",
       "      <td>not_found</td>\n",
       "      <td>[]</td>\n",
       "      <td>['ChinaUncensored']</td>\n",
       "      <td>Ayent Schweiz</td>\n",
       "    </tr>\n",
       "  </tbody>\n",
       "</table>\n",
       "</div>"
      ],
      "text/plain": [
       "                  created_at  \\\n",
       "0  2022-08-07 22:31:20+00:00   \n",
       "1  2022-08-07 22:31:16+00:00   \n",
       "2  2022-08-07 22:31:07+00:00   \n",
       "3  2022-08-07 22:31:06+00:00   \n",
       "4  2022-08-07 22:31:04+00:00   \n",
       "\n",
       "                                              source  \\\n",
       "0  <a href=\"http://twitter.com/download/android\" ...   \n",
       "1  <a href=\"http://twitter.com/download/android\" ...   \n",
       "2  <a href=\"http://twitter.com/download/android\" ...   \n",
       "3  <a href=\"http://twitter.com/download/android\" ...   \n",
       "4  <a href=\"http://twitter.com/download/iphone\" r...   \n",
       "\n",
       "                                           full_text      polarity  \\\n",
       "0  RT @i_ameztoy: Extra random image (I):\\n\\nLets... -1.250000e-01   \n",
       "1  RT @IndoPac_Info: #China's media explains the ... -1.000000e-01   \n",
       "2  China even cut off communication, they don't a...  0.000000e+00   \n",
       "3  Putin to #XiJinping : I told you my friend, Ta...  1.000000e-01   \n",
       "4  RT @ChinaUncensored: I’m sorry, I thought Taiw... -6.938894e-18   \n",
       "\n",
       "   subjectivity lang  favorite_count  retweet_count original_author  \\\n",
       "0      0.190625   en           15760              2       i_ameztoy   \n",
       "1      0.100000   en            6967            201           ZIisq   \n",
       "2      0.000000   en            2166              0       Fin21Free   \n",
       "3      0.350000   en            2166              0       Fin21Free   \n",
       "4      0.556250   en           17247            381  VizziniDolores   \n",
       "\n",
       "   followers_count  friends_count possibly_sensitive             hashtags  \\\n",
       "0            20497           2621          not_found             ['City']   \n",
       "1               65            272          not_found  ['China', 'Taiwan']   \n",
       "2               85            392          not_found        ['XiJinping']   \n",
       "3               85            392          not_found        ['XiJinping']   \n",
       "4              910           2608          not_found                   []   \n",
       "\n",
       "         user_mentions          place  \n",
       "0        ['i_ameztoy']            NaN  \n",
       "1     ['IndoPac_Info']            NaN  \n",
       "2      ['ZelenskyyUa']    Netherlands  \n",
       "3                   []    Netherlands  \n",
       "4  ['ChinaUncensored']  Ayent Schweiz  "
      ]
     },
     "execution_count": 18,
     "metadata": {},
     "output_type": "execute_result"
    }
   ],
   "source": [
    "tweets_df.head(5)\n"
   ]
  },
  {
   "cell_type": "code",
   "execution_count": null,
   "metadata": {},
   "outputs": [],
   "source": [
    "# shape of dataframe\n",
    "tweets_df.shape"
   ]
  },
  {
   "cell_type": "code",
   "execution_count": 19,
   "metadata": {},
   "outputs": [
    {
     "name": "stdout",
     "output_type": "stream",
     "text": [
      "<class 'pandas.core.frame.DataFrame'>\n",
      "RangeIndex: 22000 entries, 0 to 21999\n",
      "Data columns (total 15 columns):\n",
      " #   Column              Non-Null Count  Dtype  \n",
      "---  ------              --------------  -----  \n",
      " 0   created_at          22000 non-null  object \n",
      " 1   source              22000 non-null  object \n",
      " 2   full_text           22000 non-null  object \n",
      " 3   polarity            22000 non-null  float64\n",
      " 4   subjectivity        22000 non-null  float64\n",
      " 5   lang                22000 non-null  object \n",
      " 6   favorite_count      22000 non-null  int64  \n",
      " 7   retweet_count       22000 non-null  int64  \n",
      " 8   original_author     22000 non-null  object \n",
      " 9   followers_count     22000 non-null  int64  \n",
      " 10  friends_count       22000 non-null  int64  \n",
      " 11  possibly_sensitive  22000 non-null  object \n",
      " 12  hashtags            22000 non-null  object \n",
      " 13  user_mentions       22000 non-null  object \n",
      " 14  place               11510 non-null  object \n",
      "dtypes: float64(2), int64(4), object(9)\n",
      "memory usage: 2.5+ MB\n"
     ]
    }
   ],
   "source": [
    "# general info about null values, data types, columns\n",
    "tweets_df.info()"
   ]
  },
  {
   "cell_type": "code",
   "execution_count": 20,
   "metadata": {},
   "outputs": [
    {
     "data": {
      "text/plain": [
       "created_at                0\n",
       "source                    0\n",
       "full_text                 0\n",
       "polarity                  0\n",
       "subjectivity              0\n",
       "lang                      0\n",
       "favorite_count            0\n",
       "retweet_count             0\n",
       "original_author           0\n",
       "followers_count           0\n",
       "friends_count             0\n",
       "possibly_sensitive        0\n",
       "hashtags                  0\n",
       "user_mentions             0\n",
       "place                 10490\n",
       "dtype: int64"
      ]
     },
     "execution_count": 20,
     "metadata": {},
     "output_type": "execute_result"
    }
   ],
   "source": [
    "tweets_df.isna().sum()\n"
   ]
  },
  {
   "cell_type": "code",
   "execution_count": 22,
   "metadata": {},
   "outputs": [
    {
     "data": {
      "text/html": [
       "<div>\n",
       "<style scoped>\n",
       "    .dataframe tbody tr th:only-of-type {\n",
       "        vertical-align: middle;\n",
       "    }\n",
       "\n",
       "    .dataframe tbody tr th {\n",
       "        vertical-align: top;\n",
       "    }\n",
       "\n",
       "    .dataframe thead th {\n",
       "        text-align: right;\n",
       "    }\n",
       "</style>\n",
       "<table border=\"1\" class=\"dataframe\">\n",
       "  <thead>\n",
       "    <tr style=\"text-align: right;\">\n",
       "      <th></th>\n",
       "      <th>polarity</th>\n",
       "      <th>subjectivity</th>\n",
       "      <th>favorite_count</th>\n",
       "      <th>retweet_count</th>\n",
       "      <th>followers_count</th>\n",
       "      <th>friends_count</th>\n",
       "    </tr>\n",
       "  </thead>\n",
       "  <tbody>\n",
       "    <tr>\n",
       "      <th>count</th>\n",
       "      <td>22000.000000</td>\n",
       "      <td>22000.000000</td>\n",
       "      <td>2.200000e+04</td>\n",
       "      <td>22000.000000</td>\n",
       "      <td>2.200000e+04</td>\n",
       "      <td>22000.000000</td>\n",
       "    </tr>\n",
       "    <tr>\n",
       "      <th>mean</th>\n",
       "      <td>0.061325</td>\n",
       "      <td>0.283839</td>\n",
       "      <td>3.791884e+04</td>\n",
       "      <td>177.295636</td>\n",
       "      <td>1.796764e+04</td>\n",
       "      <td>1563.114455</td>\n",
       "    </tr>\n",
       "    <tr>\n",
       "      <th>std</th>\n",
       "      <td>0.223701</td>\n",
       "      <td>0.290963</td>\n",
       "      <td>8.952426e+04</td>\n",
       "      <td>498.320518</td>\n",
       "      <td>3.030478e+05</td>\n",
       "      <td>4358.651264</td>\n",
       "    </tr>\n",
       "    <tr>\n",
       "      <th>min</th>\n",
       "      <td>-1.000000</td>\n",
       "      <td>0.000000</td>\n",
       "      <td>0.000000e+00</td>\n",
       "      <td>0.000000</td>\n",
       "      <td>0.000000e+00</td>\n",
       "      <td>0.000000</td>\n",
       "    </tr>\n",
       "    <tr>\n",
       "      <th>25%</th>\n",
       "      <td>0.000000</td>\n",
       "      <td>0.000000</td>\n",
       "      <td>8.657500e+02</td>\n",
       "      <td>3.000000</td>\n",
       "      <td>5.700000e+01</td>\n",
       "      <td>137.000000</td>\n",
       "    </tr>\n",
       "    <tr>\n",
       "      <th>50%</th>\n",
       "      <td>0.000000</td>\n",
       "      <td>0.200000</td>\n",
       "      <td>7.133000e+03</td>\n",
       "      <td>39.000000</td>\n",
       "      <td>2.840000e+02</td>\n",
       "      <td>487.000000</td>\n",
       "    </tr>\n",
       "    <tr>\n",
       "      <th>75%</th>\n",
       "      <td>0.133333</td>\n",
       "      <td>0.468824</td>\n",
       "      <td>3.425750e+04</td>\n",
       "      <td>187.000000</td>\n",
       "      <td>1.324500e+03</td>\n",
       "      <td>1599.000000</td>\n",
       "    </tr>\n",
       "    <tr>\n",
       "      <th>max</th>\n",
       "      <td>1.000000</td>\n",
       "      <td>1.000000</td>\n",
       "      <td>1.717879e+06</td>\n",
       "      <td>17409.000000</td>\n",
       "      <td>1.449852e+07</td>\n",
       "      <td>208360.000000</td>\n",
       "    </tr>\n",
       "  </tbody>\n",
       "</table>\n",
       "</div>"
      ],
      "text/plain": [
       "           polarity  subjectivity  favorite_count  retweet_count  \\\n",
       "count  22000.000000  22000.000000    2.200000e+04   22000.000000   \n",
       "mean       0.061325      0.283839    3.791884e+04     177.295636   \n",
       "std        0.223701      0.290963    8.952426e+04     498.320518   \n",
       "min       -1.000000      0.000000    0.000000e+00       0.000000   \n",
       "25%        0.000000      0.000000    8.657500e+02       3.000000   \n",
       "50%        0.000000      0.200000    7.133000e+03      39.000000   \n",
       "75%        0.133333      0.468824    3.425750e+04     187.000000   \n",
       "max        1.000000      1.000000    1.717879e+06   17409.000000   \n",
       "\n",
       "       followers_count  friends_count  \n",
       "count     2.200000e+04   22000.000000  \n",
       "mean      1.796764e+04    1563.114455  \n",
       "std       3.030478e+05    4358.651264  \n",
       "min       0.000000e+00       0.000000  \n",
       "25%       5.700000e+01     137.000000  \n",
       "50%       2.840000e+02     487.000000  \n",
       "75%       1.324500e+03    1599.000000  \n",
       "max       1.449852e+07  208360.000000  "
      ]
     },
     "execution_count": 22,
     "metadata": {},
     "output_type": "execute_result"
    }
   ],
   "source": [
    "# stats about numerical columns\n",
    "tweets_df.describe()"
   ]
  },
  {
   "cell_type": "markdown",
   "metadata": {},
   "source": [
    "## Original authors"
   ]
  },
  {
   "cell_type": "code",
   "execution_count": 23,
   "metadata": {},
   "outputs": [
    {
     "data": {
      "text/plain": [
       "TrumpThuan        116\n",
       "CGMeifangZhang     65\n",
       "AarianNewsX        59\n",
       "Lin73324756        48\n",
       "Bin20211001        46\n",
       "                 ... \n",
       "papago5             1\n",
       "pmsxa               1\n",
       "SomethingThar       1\n",
       "omotenashi_cx       1\n",
       "ZeitounRimal        1\n",
       "Name: original_author, Length: 13433, dtype: int64"
      ]
     },
     "execution_count": 23,
     "metadata": {},
     "output_type": "execute_result"
    }
   ],
   "source": [
    "tweets_df.original_author.value_counts()\n"
   ]
  },
  {
   "cell_type": "code",
   "execution_count": 25,
   "metadata": {},
   "outputs": [
    {
     "data": {
      "image/png": "[encoded data removed]",
      "text/plain": [
       "<Figure size 432x288 with 1 Axes>"
      ]
     },
     "metadata": {},
     "output_type": "display_data"
    }
   ],
   "source": [
    "tweets_df.original_author.value_counts().head(7).plot(kind=\"pie\");\n"
   ]
  },
  {
   "cell_type": "markdown",
   "metadata": {},
   "source": [
    "## Place"
   ]
  },
  {
   "cell_type": "code",
   "execution_count": 27,
   "metadata": {},
   "outputs": [
    {
     "data": {
      "text/plain": [
       "                          246\n",
       "India                     200\n",
       "United States             166\n",
       "Hong Kong                 153\n",
       "Vit Nam                   118\n",
       "                         ... \n",
       "Makassar Indonesia          1\n",
       "xx                          1\n",
       "Lephalale South Africa      1\n",
       "Occopied Pakistan           1\n",
       "Gelendzhik                  1\n",
       "Name: place, Length: 3920, dtype: int64"
      ]
     },
     "execution_count": 27,
     "metadata": {},
     "output_type": "execute_result"
    }
   ],
   "source": [
    "tweets_df.place.value_counts()"
   ]
  },
  {
   "cell_type": "code",
   "execution_count": 29,
   "metadata": {},
   "outputs": [
    {
     "data": {
      "image/png": "[encoded data removed]",
      "text/plain": [
       "<Figure size 432x288 with 1 Axes>"
      ]
     },
     "metadata": {},
     "output_type": "display_data"
    }
   ],
   "source": [
    "# top 7 locations of users\n",
    "top_locations = tweets_df.place.value_counts().head(7)\n",
    "top_locations.plot(kind=\"pie\", subplots=True, title=\"Top 7 locations\");"
   ]
  },
  {
   "cell_type": "markdown",
   "metadata": {},
   "source": [
    "## Source"
   ]
  },
  {
   "cell_type": "code",
   "execution_count": 30,
   "metadata": {},
   "outputs": [
    {
     "data": {
      "text/plain": [
       "<a href=\"http://twitter.com/download/android\" rel=\"nofollow\">Twitter for Android</a>                                 8391\n",
       "<a href=\"https://mobile.twitter.com\" rel=\"nofollow\">Twitter Web App</a>                                              6791\n",
       "<a href=\"http://twitter.com/download/iphone\" rel=\"nofollow\">Twitter for iPhone</a>                                   5212\n",
       "<a href=\"http://twitter.com/#!/download/ipad\" rel=\"nofollow\">Twitter for iPad</a>                                     634\n",
       "<a href=\"https://about.twitter.com/products/tweetdeck\" rel=\"nofollow\">TweetDeck</a>                                   171\n",
       "                                                                                                                     ... \n",
       "<a href=\"https://twitterrific.com/mac\" rel=\"nofollow\">Twitterrific for Mac</a>                                          1\n",
       "<a href=\"https://gabrielepicco.github.io/reddit-news\" rel=\"nofollow\">Reddit__News</a>                                   1\n",
       "<a href=\"https://help.twitter.com/en/using-twitter/how-to-tweet#source-labels\" rel=\"nofollow\">Vanprob Retweet</a>       1\n",
       "<a href=\"https://help.twitter.com/en/using-twitter/how-to-tweet#source-labels\" rel=\"nofollow\">Sénégal Retweet</a>       1\n",
       "<a href=\"https://www.google.com/\" rel=\"nofollow\">NewsNacho</a>                                                          1\n",
       "Name: source, Length: 240, dtype: int64"
      ]
     },
     "execution_count": 30,
     "metadata": {},
     "output_type": "execute_result"
    }
   ],
   "source": [
    "tweets_df[\"source\"].value_counts()\n"
   ]
  },
  {
   "cell_type": "code",
   "execution_count": 31,
   "metadata": {},
   "outputs": [
    {
     "data": {
      "image/png": "[encoded data removed]",
      "text/plain": [
       "<Figure size 432x288 with 1 Axes>"
      ]
     },
     "metadata": {},
     "output_type": "display_data"
    }
   ],
   "source": [
    "tweets_df[\"source\"].value_counts().head().plot(kind=\"pie\");\n"
   ]
  }
 ],
 "metadata": {
  "kernelspec": {
   "display_name": "Python 3.9.5 64-bit",
   "language": "python",
   "name": "python3"
  },
  "language_info": {
   "codemirror_mode": {
    "name": "ipython",
    "version": 3
   },
   "file_extension": ".py",
   "mimetype": "text/x-python",
   "name": "python",
   "nbconvert_exporter": "python",
   "pygments_lexer": "ipython3",
   "version": "3.9.5"
  },
  "orig_nbformat": 4,
  "vscode": {
   "interpreter": {
    "hash": "916dbcbb3f70747c44a77c7bcd40155683ae19c65e1c03b4aa3499c5328201f1"
   }
  }
 },
 "nbformat": 4,
 "nbformat_minor": 2
}
